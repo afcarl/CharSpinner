{
 "cells": [
  {
   "cell_type": "code",
   "execution_count": 67,
   "metadata": {},
   "outputs": [],
   "source": [
    "#https://medium.com/@curiousily/making-a-predictive-keyboard-using-recurrent-neural-networks-tensorflow-for-hackers-part-v-3f238d824218\n",
    "# note: I trained on alice in wonderland, about 1/4 the length of his Nietzsche data set.\n",
    "# I also tested with \"seeds\" that come from his Nietzsche examples!\n",
    "# TODO - why does validation not go down?   \n",
    "#    - what happens if you let it run further by itself? \n",
    "#   - Use  GRU instead of LSTM\n",
    "\n",
    "import numpy as np\n",
    "np.random.seed(42)\n",
    "import tensorflow as tf\n",
    "tf.set_random_seed(42)\n",
    "from keras.models import Sequential, load_model\n",
    "from keras.layers import Dense, Activation\n",
    "from keras.layers import LSTM, GRU, Dropout,BatchNormalization\n",
    "from keras.layers import TimeDistributed\n",
    "from keras.layers.core import Dense, Activation, Dropout, RepeatVector\n",
    "from keras.optimizers import RMSprop\n",
    "from keras import regularizers\n",
    "import matplotlib.pyplot as plt\n",
    "import pickle\n",
    "import sys\n",
    "import os\n",
    "\n",
    "from keras.callbacks import ModelCheckpoint\n",
    "\n",
    "import heapq\n",
    "import seaborn as sns\n",
    "from pylab import rcParams\n",
    "\n",
    "\n",
    "%matplotlib inline\n",
    "sns.set(style='whitegrid', palette='muted', font_scale=1.5)\n",
    "rcParams['figure.figsize'] = 12, 5"
   ]
  },
  {
   "cell_type": "code",
   "execution_count": 68,
   "metadata": {},
   "outputs": [
    {
     "name": "stdout",
     "output_type": "stream",
     "text": [
      "FILENAME  :  LOG/minishakespeareStep3Seq50\n",
      "RUNNAME  :  minishakespeareStep3Seq50\n",
      "SEQUENCE_LENGTH  :  5\n",
      "EPOCHS  :  1\n",
      "step  :  3\n",
      "layer1size  :  128\n",
      "k_layers  :  3\n",
      "k_bn  :  True\n",
      "k_batchsize  :  128\n",
      "k_lr  :  0.005\n",
      "k_stateful  :  False\n",
      "k_shuffle  :  True\n",
      "k_validationSplit  :  0.0999689537410742\n",
      "chars  :  ['\\n', ' ', '$', \"'\", ',', '-', '.', ':', ';', '[', ']', 'a', 'b', 'c', 'd', 'e', 'f', 'g', 'h', 'i', 'j', 'k', 'l', 'm', 'n', 'o', 'p', 'q', 'r', 's', 't', 'u', 'v', 'w', 'x', 'y', 'z']\n"
     ]
    }
   ],
   "source": [
    "#trainP=True\n",
    "useNietzsche=False\n",
    "useCarroll=True\n",
    "useShakespeare=False\n",
    "\n",
    "LOGDIR=\"FTP\"\n",
    "RUNNAME=\"minishakespeareStep3Seq50\"\n",
    "FILENAME=LOGDIR + \"/\" + RUNNAME\n",
    "\n",
    "#get parameters from training param file\n",
    "with open(FILENAME + '.params.pkl', 'rb') as f:  \n",
    "    param = pickle.load(f)\n",
    "for key, value in param.items():\n",
    "    print(key,  \" : \", value)\n",
    "\n",
    "#assign the ones we need for analysis & visualization\n",
    "SEQUENCE_LENGTH = param['SEQUENCE_LENGTH']\n",
    "EPOCHS = param['EPOCHS']\n",
    "step = param['step']\n",
    "layer1size = param['layer1size']\n",
    "\n",
    "# paramaeters for reconstructions\n",
    "topN=1\n",
    "topNStartWord=3\n",
    "k_phraseLength=100\n",
    "\n",
    "k_condNietzsche=[1,0,0]\n",
    "k_condCarroll=[0,1,0]\n",
    "k_condShakespeare=[0,0,1]\n",
    "\n",
    "# get derived parameters for reconstruction\n",
    "chars = param['chars']\n",
    "char_indices = dict((c, i) for i, c in enumerate(chars))\n",
    "indices_char = dict((i, c) for i, c in enumerate(chars))\n",
    "lenchars=len(chars)\n",
    "lenconditional=len(k_condNietzsche)\n",
    "lenAugmentedInput=lenchars+lenconditional\n",
    "\n",
    "\n"
   ]
  },
  {
   "cell_type": "code",
   "execution_count": 69,
   "metadata": {
    "collapsed": true
   },
   "outputs": [],
   "source": [
    "\n",
    "modelOrig = load_model(FILENAME + '.keras_model.h5')\n",
    "history = pickle.load(open(FILENAME + '.history.p', \"rb\"))\n"
   ]
  },
  {
   "cell_type": "code",
   "execution_count": 70,
   "metadata": {},
   "outputs": [],
   "source": [
    "#for making predictions, we need a model that can take in a batch size of 1\n",
    "# construct a new model and copy weights.\n",
    "\n",
    "k_layers = param['k_layers']\n",
    "layer1size = param['layer1size']\n",
    "k_stateful = param['k_stateful']\n",
    "SEQUENCE_LENGTH = param['SEQUENCE_LENGTH']\n",
    "k_bn = param['k_bn']\n",
    "\n",
    "k_batchsize=1 # THIS IS THe DIFFERENCe FROM THE SAVECD MODEL\n",
    "\n",
    "model = Sequential()\n",
    "\n",
    "for i in range(k_layers) :\n",
    "    #if last layer, don't return sequence\n",
    "    if i==(k_layers-1) :\n",
    "        model.add(LSTM(layer1size,  batch_size=k_batchsize, stateful=k_stateful, input_shape=(SEQUENCE_LENGTH, lenAugmentedInput)))\n",
    "    else :\n",
    "        model.add(LSTM(layer1size,   batch_size=k_batchsize, stateful=k_stateful, return_sequences=True, input_shape=(SEQUENCE_LENGTH, lenAugmentedInput)))\n",
    "        \n",
    "    #FAIL model.add(LSTM(layer1size, dropout=0.25, recurrent_dropout=0.25, input_shape=(SEQUENCE_LENGTH, lenAugmentedInput)))\n",
    "    #FAIL model.add(GRU(layer1size,  input_shape=(SEQUENCE_LENGTH, lenAugmentedInput), kernel_regularizer=regularizers.l2(0.1), recurrent_regularizer=regularizers.l2(0.1), bias_regularizer=regularizers.l2(0.1), activity_regularizer=regularizers.l2(0.1)))\n",
    "\n",
    "    if (k_bn) : \n",
    "        model.add(BatchNormalization())\n",
    "\n",
    "#model.add(Dense(lenchars, kernel_regularizer=regularizers.l2(0.1),  bias_regularizer=regularizers.l2(0.1), activity_regularizer=regularizers.l2(0.1)))\n",
    "#model.add(Dense(lenchars, kernel_regularizer=regularizers.l2(0.1),  bias_regularizer=regularizers.l2(0.1), activity_regularizer=regularizers.l2(0.1)))\n",
    "model.add(Dense(lenchars))\n",
    "model.add(Activation('softmax'))\n",
    "\n"
   ]
  },
  {
   "cell_type": "code",
   "execution_count": 71,
   "metadata": {},
   "outputs": [
    {
     "data": {
      "image/png": "[encoded data removed]",
      "text/plain": [
       "<matplotlib.figure.Figure at 0x12dacfba8>"
      ]
     },
     "metadata": {},
     "output_type": "display_data"
    }
   ],
   "source": [
    "plt.plot(history['acc'])\n",
    "plt.plot(history['val_acc'])\n",
    "plt.title('model accuracy')\n",
    "plt.ylabel('accuracy')\n",
    "plt.xlabel('epoch')\n",
    "plt.legend(['train', 'test'], loc='upper left');"
   ]
  },
  {
   "cell_type": "code",
   "execution_count": 72,
   "metadata": {},
   "outputs": [
    {
     "data": {
      "image/png": "[encoded data removed]",
      "text/plain": [
       "<matplotlib.figure.Figure at 0x12f825390>"
      ]
     },
     "metadata": {},
     "output_type": "display_data"
    }
   ],
   "source": [
    "plt.plot(history['loss'])\n",
    "plt.plot(history['val_loss'])\n",
    "plt.title('model loss')\n",
    "plt.ylabel('loss')\n",
    "plt.xlabel('epoch')\n",
    "plt.legend(['train', 'test'], loc='upper left');"
   ]
  },
  {
   "cell_type": "code",
   "execution_count": 73,
   "metadata": {
    "collapsed": true
   },
   "outputs": [],
   "source": [
    "# create one-hot represetntation of input (will be padded with 0 vectors if text < SEQUENCE_LENGTH chars)\n",
    "def prepare_input_old(text):\n",
    "    print(\"will prepare: \", text)\n",
    "    x = np.zeros((1, SEQUENCE_LENGTH, len(chars)))  \n",
    "\n",
    "    for t, char in enumerate(text):\n",
    "        x[0, t, char_indices[char]] = 1.\n",
    "        \n",
    "    return x"
   ]
  },
  {
   "cell_type": "code",
   "execution_count": 74,
   "metadata": {
    "collapsed": true
   },
   "outputs": [],
   "source": [
    "# changes \"oldest\" element in buffer to new element, then rolls the circular buffer \n",
    "def shift(c,condval,buf) :\n",
    "    buf[0,0].fill(0)\n",
    "    buf[0,0,char_indices[c]]=1\n",
    "    buf[0,0,-lenconditional:]=condval\n",
    "    buf[0]=np.roll(buf[0],-1, 0)\n",
    "    return buf\n",
    "    \n",
    "# create one-hot represetntation of input (will be padded with 0 vectors if text < SEQUENCE_LENGTH chars)\n",
    "def prepare_input(text,condval):\n",
    "    print(\"will prepare: \", text)\n",
    "    x = np.zeros((1, SEQUENCE_LENGTH, lenAugmentedInput))  \n",
    "    for t, char in enumerate(text):\n",
    "        shift(char, condval, x)      \n",
    "    return x"
   ]
  },
  {
   "cell_type": "code",
   "execution_count": 75,
   "metadata": {
    "collapsed": true
   },
   "outputs": [],
   "source": [
    "# preds is an array of scores greater than 0 for each letter\n",
    "# sample(preds) return the indexes of the n highest\n",
    "#\n",
    "# NOTE: If you aren't going to throw the dice, why not just take the 3 largest in the preds array directly?\n",
    "#\n",
    "def sample(preds, top_n=3):\n",
    "    preds = np.asarray(preds).astype('float64')\n",
    "    preds = np.log(preds)\n",
    "    exp_preds = np.exp(preds)\n",
    "    preds = exp_preds / np.sum(exp_preds)\n",
    "    #print('preds are ', preds)\n",
    "    \n",
    "    return heapq.nlargest(top_n, range(len(preds)), preds.take) # 3rd arg is a 1-arg function used as key for sorting"
   ]
  },
  {
   "cell_type": "code",
   "execution_count": 76,
   "metadata": {
    "collapsed": true
   },
   "outputs": [],
   "source": [
    "# preds is an array of scores unnormalized scores (logits)\n",
    "# rsample(preds) Selects top_n, then throws dice to choose them in a randomized order based on their relative prob.\n",
    "\n",
    "def rsample(preds, top_n=3, verbose=0):\n",
    "    preds = np.asarray(preds).astype('float64')\n",
    "    \n",
    "    exp_preds = np.exp(preds)\n",
    "    #sm=np.sum(exp_preds)\n",
    "    preds = exp_preds / exp_preds.sum(0)\n",
    "    \n",
    "    # indexes of largest vals in preds, orders large to small\n",
    "    idx = heapq.nlargest(top_n, range(len(preds)), preds.take)\n",
    "    # and their values\n",
    "    vals = np.take(preds, idx )\n",
    "    #normalized (for np.random.choice)\n",
    "    vals=vals/vals.sum(0)\n",
    "    \n",
    "    if (verbose == 1) :\n",
    "        print(\"probability vals are \", vals)\n",
    "    your_samples = np.random.choice(idx, size=top_n, replace=False,p=vals)\n",
    "    return your_samples\n"
   ]
  },
  {
   "cell_type": "code",
   "execution_count": 77,
   "metadata": {},
   "outputs": [
    {
     "name": "stdout",
     "output_type": "stream",
     "text": [
      "probability vals are  [ 0.66524096  0.24472847  0.09003057]\n",
      "rsample:  [5 4 3]\n",
      "sample:  [5, 4, 3]\n",
      " count  0  =  0.0\n",
      " count  1  =  0.0\n",
      " count  2  =  0.0\n",
      " count  3  =  0.0\n",
      " count  4  =  0.0\n",
      " count  5  =  10000.0\n"
     ]
    }
   ],
   "source": [
    "# test sampling the probablity distribution\n",
    "bar=[2,2,3,4,5,6]\n",
    "rs = rsample(bar, top_n=3, verbose=1)\n",
    "print(\"rsample: \", rs)\n",
    "print(\"sample: \", sample(bar))\n",
    "count=np.zeros(len(bar))\n",
    "for i in range(10000) :\n",
    "    foo=rsample(bar, top_n=topN)\n",
    "    #foo=sample(bar, top_n=topN)\n",
    "    #print(\"foo = \", foo)\n",
    "    for j in range(len(bar)) :\n",
    "        if j == foo[0] :\n",
    "            count[j]=count[j]+1\n",
    "\n",
    "for j in range(len(bar)) :\n",
    "    print(\" count \", str(j), \" = \", str(count[j]))\n",
    "    "
   ]
  },
  {
   "cell_type": "code",
   "execution_count": 78,
   "metadata": {
    "collapsed": true
   },
   "outputs": [],
   "source": [
    "def predict_completion_old(text):\n",
    "    print(\"predict_completion for: \", text)\n",
    "    original_text = text\n",
    "    generated = text\n",
    "    completion = ''\n",
    "    while True:\n",
    "        x = prepare_input(text)\n",
    "        preds = model.predict(x, verbose=0)[0]\n",
    "        next_index = rsample(preds, top_n=topN)[0] # SAMPLE\n",
    "        next_char = indices_char[next_index]\n",
    "        text = text[1:] + next_char\n",
    "        completion += next_char\n",
    "        \n",
    "        print(\"len is \", len(original_text + completion))\n",
    "        if (len(original_text + completion) + 2 > len(original_text) and next_char == ' ') or (len(original_text + completion) > 100) : \n",
    "            return completion"
   ]
  },
  {
   "cell_type": "code",
   "execution_count": 79,
   "metadata": {
    "collapsed": true
   },
   "outputs": [],
   "source": [
    "def wordEnd(c) :\n",
    "    if c in [' ', ';', '.', '!', ',', '?'] : \n",
    "        return True\n",
    "    else :\n",
    "        return False\n",
    "\n",
    "def predict_completion(text, condval):\n",
    "    print(\"predict_completion for: \", text)\n",
    "    original_text = text\n",
    "    generated = text\n",
    "    completion = ''\n",
    "\n",
    "    next_char=text[-1]\n",
    "    \n",
    "    x = prepare_input(text, condval)\n",
    "    while True:\n",
    "        \n",
    "        preds = model.predict(x, verbose=0)[0]\n",
    "        \n",
    "        if (wordEnd(next_char)) : #if we are about to start a new word\n",
    "            next_index = rsample(preds, top_n=topNStartWord)[0] # SAMPLE\n",
    "        else :\n",
    "            #can add a little more randomness so we don't get stuck in repetitions at the word level\n",
    "            next_index = rsample(preds, top_n=topN)[0] # SAMPLE\n",
    "                \n",
    "        next_char = indices_char[next_index]\n",
    "        text = text[1:] + next_char\n",
    "        completion += next_char\n",
    "        \n",
    "\n",
    "        if len(original_text + completion) > k_phraseLength : \n",
    "            print(\"Extended text is : \", original_text + completion)\n",
    "            return completion\n",
    "        \n",
    "        #if (len(original_text + completion) + 2 > len(original_text) and next_char == ' ') or (len(original_text + completion) > k_phraseLength100) :\n",
    "        #    return completion\n",
    "        \n",
    "        x=shift(next_char, condval, x)\n",
    "        "
   ]
  },
  {
   "cell_type": "code",
   "execution_count": 80,
   "metadata": {
    "collapsed": true
   },
   "outputs": [],
   "source": [
    "# predict n different completions for the first 40 characters of text.\n",
    "def predict_completions(text, condval, n=3 ):\n",
    "    x = prepare_input(text, condval)\n",
    "    preds = model.predict(x, verbose=0)[0]\n",
    "    next_indices = rsample(preds, n)  # SAMPLE (for the character folloiwng the input)\n",
    "    print(\"Will predict completions for the indices : \", [indices_char[idx] for idx in next_indices])\n",
    "    return [indices_char[idx] + predict_completion(text[0:] + indices_char[idx], condval) for idx in next_indices]\n"
   ]
  },
  {
   "cell_type": "code",
   "execution_count": 81,
   "metadata": {},
   "outputs": [
    {
     "name": "stdout",
     "output_type": "stream",
     "text": [
      "eleph\n",
      "will prepare:  eleph\n",
      "Will predict completions for the indices :  ['$', 'd', ']', \"'\", 'y']\n",
      "predict_completion for:  eleph$\n",
      "will prepare:  eleph$\n",
      "Extended text is :  eleph$''i']']]ttttt''''y'''''y'''''y'''''y'''''y'''''y'''''y'''''y'''''y'''''y'''''y'''''y'''''y'''''\n",
      "predict_completion for:  elephd\n",
      "will prepare:  elephd\n",
      "Extended text is :  elephd]'t'tt''''y'''''y'''''y'''''y'''''y'''''y'''''y'''''y'''''y'''''y'''''y'''''y'''''y'''''y'''''y\n",
      "predict_completion for:  eleph]\n",
      "will prepare:  eleph]\n",
      "Extended text is :  eleph]]ttttt''''y'''''y'''''y'''''y'''''y'''''y'''''y'''''y'''''y'''''y'''''y'''''y'''''y'''''y'''''y\n",
      "predict_completion for:  eleph'\n",
      "will prepare:  eleph'\n",
      "Extended text is :  eleph'''''y'''''y'''''y'''''y'''''y'''''y'''''y'''''y'''''y'''''y'''''y'''''y'''''y'''''y'''''y'''''y\n",
      "predict_completion for:  elephy\n",
      "will prepare:  elephy\n",
      "Extended text is :  elephy''t'''y'''''y'''''y'''''y'''''y'''''y'''''y'''''y'''''y'''''y'''''y'''''y'''''y'''''y'''''y''''\n",
      "... and the completions are :  [\"$''i']']]ttttt''''y'''''y'''''y'''''y'''''y'''''y'''''y'''''y'''''y'''''y'''''y'''''y'''''y'''''\", \"d]'t'tt''''y'''''y'''''y'''''y'''''y'''''y'''''y'''''y'''''y'''''y'''''y'''''y'''''y'''''y'''''y\", \"]]ttttt''''y'''''y'''''y'''''y'''''y'''''y'''''y'''''y'''''y'''''y'''''y'''''y'''''y'''''y'''''y\", \"'''''y'''''y'''''y'''''y'''''y'''''y'''''y'''''y'''''y'''''y'''''y'''''y'''''y'''''y'''''y'''''y\", \"y''t'''y'''''y'''''y'''''y'''''y'''''y'''''y'''''y'''''y'''''y'''''y'''''y'''''y'''''y'''''y''''\"]\n",
      "\n",
      "appy \n",
      "will prepare:  appy \n",
      "Will predict completions for the indices :  ['t', 'y', 'i', \"'\", '$']\n",
      "predict_completion for:  appy t\n",
      "will prepare:  appy t\n",
      "Extended text is :  appy ttt''''y'''''y'''''y'''''y'''''y'''''y'''''y'''''y'''''y'''''y'''''y'''''y'''''y'''''y'''''y''''\n",
      "predict_completion for:  appy y\n",
      "will prepare:  appy y\n",
      "Extended text is :  appy ytt''''y'''''y'''''y'''''y'''''y'''''y'''''y'''''y'''''y'''''y'''''y'''''y'''''y'''''y'''''y''''\n",
      "predict_completion for:  appy i\n",
      "will prepare:  appy i\n",
      "Extended text is :  appy it''']'''''y'''''y'''''y'''''y'''''y'''''y'''''y'''''y'''''y'''''y'''''y'''''y'''''y'''''y'''''y\n",
      "predict_completion for:  appy '\n",
      "will prepare:  appy '\n",
      "Extended text is :  appy 't'''y'''''y'''''y'''''y'''''y'''''y'''''y'''''y'''''y'''''y'''''y'''''y'''''y'''''y'''''y'''''y\n",
      "predict_completion for:  appy $\n",
      "will prepare:  appy $\n",
      "Extended text is :  appy $tt''''y'''''y'''''y'''''y'''''y'''''y'''''y'''''y'''''y'''''y'''''y'''''y'''''y'''''y'''''y''''\n",
      "... and the completions are :  [\"ttt''''y'''''y'''''y'''''y'''''y'''''y'''''y'''''y'''''y'''''y'''''y'''''y'''''y'''''y'''''y''''\", \"ytt''''y'''''y'''''y'''''y'''''y'''''y'''''y'''''y'''''y'''''y'''''y'''''y'''''y'''''y'''''y''''\", \"it''']'''''y'''''y'''''y'''''y'''''y'''''y'''''y'''''y'''''y'''''y'''''y'''''y'''''y'''''y'''''y\", \"'t'''y'''''y'''''y'''''y'''''y'''''y'''''y'''''y'''''y'''''y'''''y'''''y'''''y'''''y'''''y'''''y\", \"$tt''''y'''''y'''''y'''''y'''''y'''''y'''''y'''''y'''''y'''''y'''''y'''''y'''''y'''''y'''''y''''\"]\n",
      "\n",
      "s us \n",
      "will prepare:  s us \n",
      "Will predict completions for the indices :  ['e', ']', 'm', \"'\", '$']\n",
      "predict_completion for:  s us e\n",
      "will prepare:  s us e\n",
      "Extended text is :  s us e''''y'''''y'''''y'''''y'''''y'''''y'''''y'''''y'''''y'''''y'''''y'''''y'''''y'''''y'''''y'''''y\n",
      "predict_completion for:  s us ]\n",
      "will prepare:  s us ]\n",
      "Extended text is :  s us ]'''''y'''''y'''''y'''''y'''''y'''''y'''''y'''''y'''''y'''''y'''''y'''''y'''''y'''''y'''''y'''''\n",
      "predict_completion for:  s us m\n",
      "will prepare:  s us m\n",
      "Extended text is :  s us m'''''y'''''y'''''y'''''y'''''y'''''y'''''y'''''y'''''y'''''y'''''y'''''y'''''y'''''y'''''y'''''\n",
      "predict_completion for:  s us '\n",
      "will prepare:  s us '\n",
      "Extended text is :  s us '''''y'''''y'''''y'''''y'''''y'''''y'''''y'''''y'''''y'''''y'''''y'''''y'''''y'''''y'''''y'''''y\n",
      "predict_completion for:  s us $\n",
      "will prepare:  s us $\n",
      "Extended text is :  s us $'''''y'''''y'''''y'''''y'''''y'''''y'''''y'''''y'''''y'''''y'''''y'''''y'''''y'''''y'''''y'''''\n",
      "... and the completions are :  [\"e''''y'''''y'''''y'''''y'''''y'''''y'''''y'''''y'''''y'''''y'''''y'''''y'''''y'''''y'''''y'''''y\", \"]'''''y'''''y'''''y'''''y'''''y'''''y'''''y'''''y'''''y'''''y'''''y'''''y'''''y'''''y'''''y'''''\", \"m'''''y'''''y'''''y'''''y'''''y'''''y'''''y'''''y'''''y'''''y'''''y'''''y'''''y'''''y'''''y'''''\", \"'''''y'''''y'''''y'''''y'''''y'''''y'''''y'''''y'''''y'''''y'''''y'''''y'''''y'''''y'''''y'''''y\", \"$'''''y'''''y'''''y'''''y'''''y'''''y'''''y'''''y'''''y'''''y'''''y'''''y'''''y'''''y'''''y'''''\"]\n",
      "\n"
     ]
    }
   ],
   "source": [
    "quotes = [\n",
    "    \"after you hear the word eleph\",\n",
    "    \"friendship that makes unhappy \",\n",
    "    \"That which does not kill us makes us \"\n",
    "]\n",
    "\n",
    "for q in quotes:\n",
    "    seq = q[-SEQUENCE_LENGTH:].lower()\n",
    "    print(seq)\n",
    "    print(\"... and the completions are : \" , predict_completions(seq, k_condCarroll, 5 ))\n",
    "    print()"
   ]
  },
  {
   "cell_type": "code",
   "execution_count": 82,
   "metadata": {},
   "outputs": [
    {
     "name": "stdout",
     "output_type": "stream",
     "text": [
      "eleph\n",
      "will prepare:  eleph\n",
      "Will predict completions for the indices :  ['w', 'n', 'd', '$', ',']\n",
      "predict_completion for:  elephw\n",
      "will prepare:  elephw\n",
      "Extended text is :  elephw,,,e$jjjjllccbwmcce'''ynen''w'weeyy$n$$$jjjjllccbwmcce'''ynen''w'weeyy$n$$$jjjjllccbwmcce'''yne\n",
      "predict_completion for:  elephn\n",
      "will prepare:  elephn\n",
      "Extended text is :  elephnw'ww'eeyyn$$$wjj$cclcmm,e'',ynnn''wwweey$$n$$jjjjllccbwmcce'''ynen''w'weeyy$n$$$jjjjllccbwmcce'\n",
      "predict_completion for:  elephd\n",
      "will prepare:  elephd\n",
      "Extended text is :  elephdwweweyy$$$$$jjjjllccbwmcce'''ynen''w'weeyy$n$$$jjjjllccbwmcce'''ynen''w'weeyy$n$$$jjjjllccbwmcc\n",
      "predict_completion for:  eleph$\n",
      "will prepare:  eleph$\n",
      "Extended text is :  eleph$,,,ljjjncccccmm''eeennnjjcccccmm''eeennnjjcccccmm''eeennnjjcccccmm''eeennnjjcccccmm''eeennnjjcc\n",
      "predict_completion for:  eleph,\n",
      "will prepare:  eleph,\n",
      "Extended text is :  eleph,$,,,jjjjllccbwmcce'''ynen''w'weeyy$n$$$jjjjllccbwmcce'''ynen''w'weeyy$n$$$jjjjllccbwmcce'''ynen\n",
      "... and the completions are :  [\"w,,,e$jjjjllccbwmcce'''ynen''w'weeyy$n$$$jjjjllccbwmcce'''ynen''w'weeyy$n$$$jjjjllccbwmcce'''yne\", \"nw'ww'eeyyn$$$wjj$cclcmm,e'',ynnn''wwweey$$n$$jjjjllccbwmcce'''ynen''w'weeyy$n$$$jjjjllccbwmcce'\", \"dwweweyy$$$$$jjjjllccbwmcce'''ynen''w'weeyy$n$$$jjjjllccbwmcce'''ynen''w'weeyy$n$$$jjjjllccbwmcc\", \"$,,,ljjjncccccmm''eeennnjjcccccmm''eeennnjjcccccmm''eeennnjjcccccmm''eeennnjjcccccmm''eeennnjjcc\", \",$,,,jjjjllccbwmcce'''ynen''w'weeyy$n$$$jjjjllccbwmcce'''ynen''w'weeyy$n$$$jjjjllccbwmcce'''ynen\"]\n",
      "\n",
      "appy \n",
      "will prepare:  appy \n",
      "Will predict completions for the indices :  [',', 'y', \"'\", '$', 'e']\n",
      "predict_completion for:  appy ,\n",
      "will prepare:  appy ,\n",
      "Extended text is :  appy ,e$$,jjjjllccbwmcce'''ynen''w'weeyy$n$$$jjjjllccbwmcce'''ynen''w'weeyy$n$$$jjjjllccbwmcce'''ynen\n",
      "predict_completion for:  appy y\n",
      "will prepare:  appy y\n",
      "Extended text is :  appy ye$''nnwwwc'eey'nn''wwweey$$n$$jjjjllccbwmcce'''ynen''w'weeyy$n$$$jjjjllccbwmcce'''ynen''w'weeyy\n",
      "predict_completion for:  appy '\n",
      "will prepare:  appy '\n",
      "Extended text is :  appy 'ee'nnnnwwwc'eey'nn''wwweey$$n$$jjjjllccbwmcce'''ynen''w'weeyy$n$$$jjjjllccbwmcce'''ynen''w'weey\n",
      "predict_completion for:  appy $\n",
      "will prepare:  appy $\n",
      "Extended text is :  appy $e$$,jjjjllccbwmcce'''ynen''w'weeyy$n$$$jjjjllccbwmcce'''ynen''w'weeyy$n$$$jjjjllccbwmcce'''ynen\n",
      "predict_completion for:  appy e\n",
      "will prepare:  appy e\n",
      "Extended text is :  appy e$$$,njjjjcllcmm,b'ewwwyye$$$$jjjjllccbwmcce'''ynen''w'weeyy$n$$$jjjjllccbwmcce'''ynen''w'weeyy$\n",
      "... and the completions are :  [\",e$$,jjjjllccbwmcce'''ynen''w'weeyy$n$$$jjjjllccbwmcce'''ynen''w'weeyy$n$$$jjjjllccbwmcce'''ynen\", \"ye$''nnwwwc'eey'nn''wwweey$$n$$jjjjllccbwmcce'''ynen''w'weeyy$n$$$jjjjllccbwmcce'''ynen''w'weeyy\", \"'ee'nnnnwwwc'eey'nn''wwweey$$n$$jjjjllccbwmcce'''ynen''w'weeyy$n$$$jjjjllccbwmcce'''ynen''w'weey\", \"$e$$,jjjjllccbwmcce'''ynen''w'weeyy$n$$$jjjjllccbwmcce'''ynen''w'weeyy$n$$$jjjjllccbwmcce'''ynen\", \"e$$$,njjjjcllcmm,b'ewwwyye$$$$jjjjllccbwmcce'''ynen''w'weeyy$n$$$jjjjllccbwmcce'''ynen''w'weeyy$\"]\n",
      "\n",
      "s us \n",
      "will prepare:  s us \n",
      "Will predict completions for the indices :  ['c', 'm', \"'\", 'e', ',']\n",
      "predict_completion for:  s us c\n",
      "will prepare:  s us c\n",
      "Extended text is :  s us c,''''eennnjjcccccmm''eeennnjjcccccmm''eeennnjjcccccmm''eeennnjjcccccmm''eeennnjjcccccmm''eeennn\n",
      "predict_completion for:  s us m\n",
      "will prepare:  s us m\n",
      "Extended text is :  s us m,e'',,nnnjjcccccmm''eeennnjjcccccmm''eeennnjjcccccmm''eeennnjjcccccmm''eeennnjjcccccmm''eeennnj\n",
      "predict_completion for:  s us '\n",
      "will prepare:  s us '\n",
      "Extended text is :  s us ',,',,jjnjjcccccmm''eeennnjjcccccmm''eeennnjjcccccmm''eeennnjjcccccmm''eeennnjjcccccmm''eeennnjj\n",
      "predict_completion for:  s us e\n",
      "will prepare:  s us e\n",
      "Extended text is :  s us e,,,'jjjncccccmm''eeennnjjcccccmm''eeennnjjcccccmm''eeennnjjcccccmm''eeennnjjcccccmm''eeennnjjcc\n",
      "predict_completion for:  s us ,\n",
      "will prepare:  s us ,\n",
      "Extended text is :  s us ,',',ennnjjcccccmm''eeennnjjcccccmm''eeennnjjcccccmm''eeennnjjcccccmm''eeennnjjcccccmm''eeennnjj\n",
      "... and the completions are :  [\"c,''''eennnjjcccccmm''eeennnjjcccccmm''eeennnjjcccccmm''eeennnjjcccccmm''eeennnjjcccccmm''eeennn\", \"m,e'',,nnnjjcccccmm''eeennnjjcccccmm''eeennnjjcccccmm''eeennnjjcccccmm''eeennnjjcccccmm''eeennnj\", \"',,',,jjnjjcccccmm''eeennnjjcccccmm''eeennnjjcccccmm''eeennnjjcccccmm''eeennnjjcccccmm''eeennnjj\", \"e,,,'jjjncccccmm''eeennnjjcccccmm''eeennnjjcccccmm''eeennnjjcccccmm''eeennnjjcccccmm''eeennnjjcc\", \",',',ennnjjcccccmm''eeennnjjcccccmm''eeennnjjcccccmm''eeennnjjcccccmm''eeennnjjcccccmm''eeennnjj\"]\n",
      "\n"
     ]
    }
   ],
   "source": [
    "quotes = [\n",
    "    \"after you hear the word eleph\",\n",
    "    \"friendship that makes unhappy \",\n",
    "    \"That which does not kill us makes us \"\n",
    "]\n",
    "\n",
    "for q in quotes:\n",
    "    seq = q[-SEQUENCE_LENGTH:].lower()\n",
    "    print(seq)\n",
    "    print(\"... and the completions are : \" , predict_completions(seq, k_condNietzsche, 5 ))\n",
    "    print()\n",
    "    "
   ]
  },
  {
   "cell_type": "code",
   "execution_count": 83,
   "metadata": {},
   "outputs": [
    {
     "name": "stdout",
     "output_type": "stream",
     "text": [
      "eleph\n",
      "will prepare:  eleph\n",
      "Will predict completions for the indices :  ['r', \"'\", 'n', 'f', ']']\n",
      "predict_completion for:  elephr\n",
      "will prepare:  elephr\n",
      "Extended text is :  elephr'''''''''''''''''''''''''''''''''''''''''''''''''''''''''''''''''''''''''''''''''''''''''''''''\n",
      "predict_completion for:  eleph'\n",
      "will prepare:  eleph'\n",
      "Extended text is :  eleph''''''''''''''''''''''''''''''''''''''''''''''''''''''''''''''''''''''''''''''''''''''''''''''''\n",
      "predict_completion for:  elephn\n",
      "will prepare:  elephn\n",
      "Extended text is :  elephn'''''''''''''''''''''''''''''''''''''''''''''''''''''''''''''''''''''''''''''''''''''''''''''''\n",
      "predict_completion for:  elephf\n",
      "will prepare:  elephf\n",
      "Extended text is :  elephf'''r'''''''''''''''''''''''''''''''''''''''''''''''''''''''''''''''''''''''''''''''''''''''''''\n",
      "predict_completion for:  eleph]\n",
      "will prepare:  eleph]\n",
      "Extended text is :  eleph]'''''''''''''''''''''''''''''''''''''''''''''''''''''''''''''''''''''''''''''''''''''''''''''''\n",
      "... and the completions are :  [\"r'''''''''''''''''''''''''''''''''''''''''''''''''''''''''''''''''''''''''''''''''''''''''''''''\", \"''''''''''''''''''''''''''''''''''''''''''''''''''''''''''''''''''''''''''''''''''''''''''''''''\", \"n'''''''''''''''''''''''''''''''''''''''''''''''''''''''''''''''''''''''''''''''''''''''''''''''\", \"f'''r'''''''''''''''''''''''''''''''''''''''''''''''''''''''''''''''''''''''''''''''''''''''''''\", \"]'''''''''''''''''''''''''''''''''''''''''''''''''''''''''''''''''''''''''''''''''''''''''''''''\"]\n",
      "\n",
      "appy \n",
      "will prepare:  appy \n",
      "Will predict completions for the indices :  ['z', 'i', 't', \"'\", 'f']\n",
      "predict_completion for:  appy z\n",
      "will prepare:  appy z\n",
      "Extended text is :  appy z'''''''''''''''''''''''''''''''''''''''''''''''''''''''''''''''''''''''''''''''''''''''''''''''\n",
      "predict_completion for:  appy i\n",
      "will prepare:  appy i\n",
      "Extended text is :  appy i'''''''''''''''''''''''''''''''''''''''''''''''''''''''''''''''''''''''''''''''''''''''''''''''\n",
      "predict_completion for:  appy t\n",
      "will prepare:  appy t\n",
      "Extended text is :  appy t'''''''''''''''''''''''''''''''''''''''''''''''''''''''''''''''''''''''''''''''''''''''''''''''\n",
      "predict_completion for:  appy '\n",
      "will prepare:  appy '\n",
      "Extended text is :  appy ''''''''''''''''''''''''''''''''''''''''''''''''''''''''''''''''''''''''''''''''''''''''''''''''\n",
      "predict_completion for:  appy f\n",
      "will prepare:  appy f\n",
      "Extended text is :  appy f''''r''''''''''''''''''''''''''''''''''''''''''''''''''''''''''''''''''''''''''''''''''''''''''\n",
      "... and the completions are :  [\"z'''''''''''''''''''''''''''''''''''''''''''''''''''''''''''''''''''''''''''''''''''''''''''''''\", \"i'''''''''''''''''''''''''''''''''''''''''''''''''''''''''''''''''''''''''''''''''''''''''''''''\", \"t'''''''''''''''''''''''''''''''''''''''''''''''''''''''''''''''''''''''''''''''''''''''''''''''\", \"''''''''''''''''''''''''''''''''''''''''''''''''''''''''''''''''''''''''''''''''''''''''''''''''\", \"f''''r''''''''''''''''''''''''''''''''''''''''''''''''''''''''''''''''''''''''''''''''''''''''''\"]\n",
      "\n",
      "s us \n",
      "will prepare:  s us \n",
      "Will predict completions for the indices :  [']', 'f', \"'\", 'z', 'm']\n",
      "predict_completion for:  s us ]\n",
      "will prepare:  s us ]\n",
      "Extended text is :  s us ]'''''''''''''''''''''''''''''''''''''''''''''''''''''''''''''''''''''''''''''''''''''''''''''''\n",
      "predict_completion for:  s us f\n",
      "will prepare:  s us f\n",
      "Extended text is :  s us f''''r''''''''''''''''''''''''''''''''''''''''''''''''''''''''''''''''''''''''''''''''''''''''''\n",
      "predict_completion for:  s us '\n",
      "will prepare:  s us '\n",
      "Extended text is :  s us ''''''''''''''''''''''''''''''''''''''''''''''''''''''''''''''''''''''''''''''''''''''''''''''''\n",
      "predict_completion for:  s us z\n",
      "will prepare:  s us z\n",
      "Extended text is :  s us z'''''''''''''''''''''''''''''''''''''''''''''''''''''''''''''''''''''''''''''''''''''''''''''''\n",
      "predict_completion for:  s us m\n",
      "will prepare:  s us m\n",
      "Extended text is :  s us m'''''''''''''''''''''''''''''''''''''''''''''''''''''''''''''''''''''''''''''''''''''''''''''''\n",
      "... and the completions are :  [\"]'''''''''''''''''''''''''''''''''''''''''''''''''''''''''''''''''''''''''''''''''''''''''''''''\", \"f''''r''''''''''''''''''''''''''''''''''''''''''''''''''''''''''''''''''''''''''''''''''''''''''\", \"''''''''''''''''''''''''''''''''''''''''''''''''''''''''''''''''''''''''''''''''''''''''''''''''\", \"z'''''''''''''''''''''''''''''''''''''''''''''''''''''''''''''''''''''''''''''''''''''''''''''''\", \"m'''''''''''''''''''''''''''''''''''''''''''''''''''''''''''''''''''''''''''''''''''''''''''''''\"]\n",
      "\n"
     ]
    }
   ],
   "source": [
    "quotes = [\n",
    "    \"after you hear the word eleph\",\n",
    "    \"friendship that makes unhappy \",\n",
    "    \"That which does not kill us makes us \"\n",
    "]\n",
    "\n",
    "for q in quotes:\n",
    "    seq = q[-SEQUENCE_LENGTH:].lower()\n",
    "    print(seq)\n",
    "    print(\"... and the completions are : \" , predict_completions(seq, k_condShakespeare, 5 ))\n",
    "    print()"
   ]
  },
  {
   "cell_type": "code",
   "execution_count": null,
   "metadata": {
    "collapsed": true
   },
   "outputs": [],
   "source": []
  }
 ],
 "metadata": {
  "kernelspec": {
   "display_name": "Python (keras)",
   "language": "python",
   "name": "myenv"
  },
  "language_info": {
   "codemirror_mode": {
    "name": "ipython",
    "version": 3
   },
   "file_extension": ".py",
   "mimetype": "text/x-python",
   "name": "python",
   "nbconvert_exporter": "python",
   "pygments_lexer": "ipython3",
   "version": "3.6.3"
  }
 },
 "nbformat": 4,
 "nbformat_minor": 2
}
