{
 "cells": [
  {
   "cell_type": "code",
   "execution_count": 1,
   "metadata": {},
   "outputs": [
    {
     "name": "stderr",
     "output_type": "stream",
     "text": [
      "Using TensorFlow backend.\n"
     ]
    }
   ],
   "source": [
    "#https://medium.com/@curiousily/making-a-predictive-keyboard-using-recurrent-neural-networks-tensorflow-for-hackers-part-v-3f238d824218\n",
    "# note: I trained on alice in wonderland, about 1/4 the length of his Nietzsche data set.\n",
    "# I also tested with \"seeds\" that come from his Nietzsche examples!\n",
    "# TODO - why does validation not go down?   \n",
    "#    - what happens if you let it run further by itself? \n",
    "#   - Use  GRU instead of LSTM\n",
    "\n",
    "import numpy as np\n",
    "np.random.seed(42)\n",
    "import tensorflow as tf\n",
    "tf.set_random_seed(42)\n",
    "from keras.models import Sequential, load_model\n",
    "from keras.layers import Dense, Activation\n",
    "from keras.layers import LSTM, GRU, Dropout,BatchNormalization\n",
    "from keras.layers import TimeDistributed\n",
    "from keras.layers.core import Dense, Activation, Dropout, RepeatVector\n",
    "from keras.optimizers import RMSprop\n",
    "from keras import regularizers\n",
    "import matplotlib.pyplot as plt\n",
    "import pickle\n",
    "import sys\n",
    "import os\n",
    "\n",
    "from keras.callbacks import ModelCheckpoint\n",
    "\n",
    "import heapq\n",
    "import seaborn as sns\n",
    "from pylab import rcParams\n",
    "\n",
    "\n",
    "%matplotlib inline\n",
    "sns.set(style='whitegrid', palette='muted', font_scale=1.5)\n",
    "rcParams['figure.figsize'] = 12, 5"
   ]
  },
  {
   "cell_type": "code",
   "execution_count": 2,
   "metadata": {
    "collapsed": true
   },
   "outputs": [],
   "source": [
    "trainP=True\n",
    "useNietzsche=True\n",
    "useCarroll=True\n",
    "\n",
    "#FILENAME=\"carroll.3.20\"   #for writing or reading\n",
    "#FILENAME=\"nietzsche.3.20\"   #for writing or reading\n",
    "LOGDIR=\"LOG\"\n",
    "FILENAME=LOGDIR + \"/foobar\"\n",
    "\n",
    "if not os.path.exists(LOGDIR):\n",
    "    os.makedirs(LOGDIR)\n",
    "\n",
    "SEQUENCE_LENGTH = 40\n",
    "EPOCHS=40\n",
    "step = 2   #skip this number of chars for generating new training sequences\n",
    "layer1size=196\n",
    "topN=1\n",
    "topNStartWord=3\n",
    "k_phraseLength=100"
   ]
  },
  {
   "cell_type": "code",
   "execution_count": 3,
   "metadata": {
    "collapsed": true
   },
   "outputs": [],
   "source": [
    "import re as re\n",
    "def cleanText(text) :\n",
    "    # replace all numbers followed by an optional letter and then a dot (eg numbered paragraphs)\n",
    "    text = re.sub(\"(^|\\W)\\d+[a-zA-Z]*($|\\W|\\.)\", \"\", text)  \n",
    "    #escaped apotrophes\n",
    "    text = text.replace('\\n', ' ').replace(\"\\'\", \"'\").replace(\"\\\"\",\"\").replace('[Illustration]',\"\").replace('*',\"\")\n",
    "    #repeated white space\n",
    "    text=re.sub('\\s{2,}',' ', text)\n",
    "    return text\n",
    "    "
   ]
  },
  {
   "cell_type": "code",
   "execution_count": 4,
   "metadata": {},
   "outputs": [
    {
     "name": "stdout",
     "output_type": "stream",
     "text": [
      "corpus 1 length: 373778\n",
      "corpus 2 length: 51457\n",
      "total cleaned corpus length is  425235\n"
     ]
    }
   ],
   "source": [
    "text1=\"\"\n",
    "text2=\"\"\n",
    "\n",
    "if useNietzsche :\n",
    "    path = 'nietzsche.txt'\n",
    "    text1 = cleanText(open(path).read().lower())\n",
    "    print('corpus 1 length:', len(text1))\n",
    "\n",
    "if useCarroll :\n",
    "    path = 'wonderland.txt'\n",
    "    text2 = cleanText(open(path).read().lower())\n",
    "    print('corpus 2 length:', len(text2))\n",
    "\n",
    "text=text1+text2\n",
    "print('total cleaned corpus length is ', len(text))"
   ]
  },
  {
   "cell_type": "code",
   "execution_count": 5,
   "metadata": {},
   "outputs": [
    {
     "name": "stdout",
     "output_type": "stream",
     "text": [
      "unique chars: 43\n"
     ]
    }
   ],
   "source": [
    "chars = sorted(list(set(text)))\n",
    "char_indices = dict((c, i) for i, c in enumerate(chars))\n",
    "indices_char = dict((i, c) for i, c in enumerate(chars))\n",
    "\n",
    "lenchars=len(chars)\n",
    "lenconditional=2\n",
    "lenAugmentedInput=lenchars+lenconditional\n",
    "\n",
    "print(f'unique chars: {len(chars)}')\n",
    "#chars\n",
    "#indices_char\n",
    "#text"
   ]
  },
  {
   "cell_type": "code",
   "execution_count": 6,
   "metadata": {},
   "outputs": [
    {
     "name": "stdout",
     "output_type": "stream",
     "text": [
      "num training examples: 212578\n"
     ]
    }
   ],
   "source": [
    "# cut the corpus into chunks of 40 characters, spacing the sequences by 3 characters\n",
    "# Additionally, we will store the next character (the one we need to predict) for every sequence\n",
    "\n",
    "# condition on the dataset (cond vector to be concatenated with input)\n",
    "k_condNietzsche=[0,0]\n",
    "k_condWonderland=[0,0]\n",
    "\n",
    "sentences = []\n",
    "next_chars = []\n",
    "cond_input=[]\n",
    "\n",
    "if useNietzsche :\n",
    "    for i in range(0, len(text1) - SEQUENCE_LENGTH, step):\n",
    "        sentences.append(text1[i: i + SEQUENCE_LENGTH])\n",
    "        next_chars.append(text1[i + SEQUENCE_LENGTH])\n",
    "        cond_input.append(k_condNietzsche)\n",
    "\n",
    "if useCarroll :\n",
    "    for j in range(0, len(text2) - SEQUENCE_LENGTH, step):\n",
    "        sentences.append(text2[j: j + SEQUENCE_LENGTH])\n",
    "        next_chars.append(text2[j + SEQUENCE_LENGTH])\n",
    "        cond_input.append(k_condWonderland)\n",
    "\n",
    "print(f'num training examples: {len(sentences)}')"
   ]
  },
  {
   "cell_type": "code",
   "execution_count": 7,
   "metadata": {
    "collapsed": true
   },
   "outputs": [],
   "source": [
    "# generate features and labels - one-host versions of the input and prediction vectors\n",
    "\n",
    "X = np.zeros((len(sentences), SEQUENCE_LENGTH, lenAugmentedInput), dtype=np.bool)  #x[sample_index][one-hot array]\n",
    "y = np.zeros((len(sentences), lenchars), dtype=np.bool)\n",
    "for i, sentence in enumerate(sentences):\n",
    "    for t, char in enumerate(sentence):\n",
    "        X[i, t, char_indices[char]] = 1\n",
    "        X[i, t,-lenconditional:] = cond_input[i] # set conditional bit on last charcter in each training sample\n",
    "    y[i, char_indices[next_chars[i]]] = 1"
   ]
  },
  {
   "cell_type": "code",
   "execution_count": 8,
   "metadata": {},
   "outputs": [
    {
     "name": "stdout",
     "output_type": "stream",
     "text": [
      "len of first input vector, first character vector x is  45\n",
      "a character in a sentice is  [False False False False False False False False False False False False\n",
      " False False False False False False False False False False False  True\n",
      " False False False False False False False False False False False False\n",
      " False False False False False False False  True False]\n"
     ]
    }
   ],
   "source": [
    "\n",
    "print(\"len of first input vector, first character vector x is \", str(len(X[0][0])))\n",
    "print(\"a character in a sentice is \", X[141000][0] )\n"
   ]
  },
  {
   "cell_type": "code",
   "execution_count": 9,
   "metadata": {},
   "outputs": [
    {
     "name": "stdout",
     "output_type": "stream",
     "text": [
      "(212578, 40, 45)\n"
     ]
    }
   ],
   "source": [
    "print(str(X.shape))   #training_samples, SEQUENCE_LENGTH, lenAugmentedInput"
   ]
  },
  {
   "cell_type": "code",
   "execution_count": 10,
   "metadata": {
    "collapsed": true
   },
   "outputs": [],
   "source": [
    "#LST layer with 128 neurons\n",
    "# takes a shape which is \n",
    "model = Sequential()\n",
    "model.add(LSTM(layer1size,  input_shape=(SEQUENCE_LENGTH, lenAugmentedInput)))\n",
    "\n",
    "#FAIL model.add(LSTM(layer1size, dropout=0.25, recurrent_dropout=0.25, input_shape=(SEQUENCE_LENGTH, lenAugmentedInput)))\n",
    "#FAIL model.add(GRU(layer1size,  input_shape=(SEQUENCE_LENGTH, lenAugmentedInput), kernel_regularizer=regularizers.l2(0.1), recurrent_regularizer=regularizers.l2(0.1), bias_regularizer=regularizers.l2(0.1), activity_regularizer=regularizers.l2(0.1)))\n",
    "\n",
    "#model.add(Dense(lenchars, kernel_regularizer=regularizers.l2(0.1),  bias_regularizer=regularizers.l2(0.1), activity_regularizer=regularizers.l2(0.1)))\n",
    "#model.add(Dense(lenchars, kernel_regularizer=regularizers.l2(0.1),  bias_regularizer=regularizers.l2(0.1), activity_regularizer=regularizers.l2(0.1)))\n",
    "model.add(BatchNormalization())\n",
    "#model.add(Dropout(0.5))\n",
    "model.add(Dense(lenchars))\n",
    "\n",
    "model.add(Activation('softmax'))"
   ]
  },
  {
   "cell_type": "code",
   "execution_count": 11,
   "metadata": {},
   "outputs": [
    {
     "data": {
      "text/plain": [
       "'LOG/foobarhistory.p'"
      ]
     },
     "execution_count": 11,
     "metadata": {},
     "output_type": "execute_result"
    }
   ],
   "source": [
    "FILENAME + 'history.p'"
   ]
  },
  {
   "cell_type": "code",
   "execution_count": null,
   "metadata": {},
   "outputs": [
    {
     "name": "stdout",
     "output_type": "stream",
     "text": [
      "Train on 191320 samples, validate on 21258 samples\n",
      "Epoch 1/1\n",
      " 38656/191320 [=====>........................] - ETA: 293s - loss: 2.3637 - acc: 0.3096"
     ]
    }
   ],
   "source": [
    "# Train. Validate with 5% of the examples\n",
    "\n",
    "\n",
    "if trainP :\n",
    "    optimizer = RMSprop(lr=0.01)\n",
    "    model.compile(loss='categorical_crossentropy', optimizer=optimizer, metrics=['accuracy'])\n",
    "    \n",
    "    # checkpoint\n",
    "    filepath= FILENAME + \".cp-{epoch:02d}-{val_acc:.2f}.hdf5\"\n",
    "    checkpoint = ModelCheckpoint(filepath, monitor='val_acc', verbose=1)\n",
    "    callbacks_list = [checkpoint]\n",
    "\n",
    "\n",
    "    history = model.fit(X, y, validation_split=0.1, batch_size=128, epochs=EPOCHS, shuffle=True, callbacks=callbacks_list).history\n",
    "\n",
    "    #Save (How does this work ??)\n",
    "    model.save(FILENAME + '.keras_model.h5')\n",
    "    pickle.dump(history, open(FILENAME + 'history.p', 'wb'))\n"
   ]
  },
  {
   "cell_type": "code",
   "execution_count": 110,
   "metadata": {
    "collapsed": true
   },
   "outputs": [],
   "source": [
    "\n",
    "# check to make sure the save worked\n",
    "model = load_model(FILENAME + '.keras_model.h5')\n",
    "history = pickle.load(open(FILENAME + 'history.p', \"rb\"))"
   ]
  },
  {
   "cell_type": "code",
   "execution_count": 111,
   "metadata": {},
   "outputs": [
    {
     "data": {
      "image/png": "[encoded data removed]",
      "text/plain": [
       "<matplotlib.figure.Figure at 0x1250ea358>"
      ]
     },
     "metadata": {},
     "output_type": "display_data"
    }
   ],
   "source": [
    "plt.plot(history['acc'])\n",
    "plt.plot(history['val_acc'])\n",
    "plt.title('model accuracy')\n",
    "plt.ylabel('accuracy')\n",
    "plt.xlabel('epoch')\n",
    "plt.legend(['train', 'test'], loc='upper left');"
   ]
  },
  {
   "cell_type": "code",
   "execution_count": 112,
   "metadata": {},
   "outputs": [
    {
     "data": {
      "image/png": "[encoded data removed]",
      "text/plain": [
       "<matplotlib.figure.Figure at 0x1250ead30>"
      ]
     },
     "metadata": {},
     "output_type": "display_data"
    }
   ],
   "source": [
    "plt.plot(history['loss'])\n",
    "plt.plot(history['val_loss'])\n",
    "plt.title('model loss')\n",
    "plt.ylabel('loss')\n",
    "plt.xlabel('epoch')\n",
    "plt.legend(['train', 'test'], loc='upper left');"
   ]
  },
  {
   "cell_type": "code",
   "execution_count": 113,
   "metadata": {
    "collapsed": true
   },
   "outputs": [],
   "source": [
    "# create one-hot represetntation of input (will be padded with 0 vectors if text < SEQUENCE_LENGTH chars)\n",
    "def prepare_input_old(text):\n",
    "    print(\"will prepare: \", text)\n",
    "    x = np.zeros((1, SEQUENCE_LENGTH, len(chars)))  \n",
    "\n",
    "    for t, char in enumerate(text):\n",
    "        x[0, t, char_indices[char]] = 1.\n",
    "        \n",
    "    return x"
   ]
  },
  {
   "cell_type": "code",
   "execution_count": 114,
   "metadata": {
    "collapsed": true
   },
   "outputs": [],
   "source": [
    "# changes \"oldest\" element in buffer to new element, then rolls the circular buffer \n",
    "def shift(c,condval,buf) :\n",
    "    buf[0,0].fill(0)\n",
    "    buf[0,0,char_indices[c]]=1\n",
    "    buf[0,0,-lenconditional:]=condval\n",
    "    buf[0]=np.roll(buf[0],-1, 0)\n",
    "    return buf\n",
    "    \n",
    "# create one-hot represetntation of input (will be padded with 0 vectors if text < SEQUENCE_LENGTH chars)\n",
    "def prepare_input(text,condval):\n",
    "    print(\"will prepare: \", text)\n",
    "    x = np.zeros((1, SEQUENCE_LENGTH, lenAugmentedInput))  \n",
    "    for t, char in enumerate(text):\n",
    "        shift(char, condval, x)      \n",
    "    return x"
   ]
  },
  {
   "cell_type": "code",
   "execution_count": 115,
   "metadata": {
    "collapsed": true
   },
   "outputs": [],
   "source": [
    "# preds is an array of scores greater than 0 for each letter\n",
    "# sample(preds) return the indexes of the n highest\n",
    "#\n",
    "# NOTE: If you aren't going to throw the dice, why not just take the 3 largest in the preds array directly?\n",
    "#\n",
    "def sample(preds, top_n=3):\n",
    "    preds = np.asarray(preds).astype('float64')\n",
    "    preds = np.log(preds)\n",
    "    exp_preds = np.exp(preds)\n",
    "    preds = exp_preds / np.sum(exp_preds)\n",
    "    #print('preds are ', preds)\n",
    "    \n",
    "    return heapq.nlargest(top_n, range(len(preds)), preds.take) # 3rd arg is a 1-arg function used as key for sorting"
   ]
  },
  {
   "cell_type": "code",
   "execution_count": 116,
   "metadata": {
    "collapsed": true
   },
   "outputs": [],
   "source": [
    "# preds is an array of scores unnormalized scores (logits)\n",
    "# rsample(preds) Selects top_n, then throws dice to choose them in a randomized order based on their relative prob.\n",
    "\n",
    "def rsample(preds, top_n=3, verbose=0):\n",
    "    preds = np.asarray(preds).astype('float64')\n",
    "    \n",
    "    exp_preds = np.exp(preds)\n",
    "    #sm=np.sum(exp_preds)\n",
    "    preds = exp_preds / exp_preds.sum(0)\n",
    "    \n",
    "    # indexes of largest vals in preds, orders large to small\n",
    "    idx = heapq.nlargest(top_n, range(len(preds)), preds.take)\n",
    "    # and their values\n",
    "    vals = np.take(preds, idx )\n",
    "    #normalized (for np.random.choice)\n",
    "    vals=vals/vals.sum(0)\n",
    "    \n",
    "    if (verbose == 1) :\n",
    "        print(\"probability vals are \", vals)\n",
    "    your_samples = np.random.choice(idx, size=top_n, replace=False,p=vals)\n",
    "    return your_samples\n"
   ]
  },
  {
   "cell_type": "code",
   "execution_count": 117,
   "metadata": {},
   "outputs": [
    {
     "name": "stdout",
     "output_type": "stream",
     "text": [
      "probability vals are  [ 0.66524096  0.24472847  0.09003057]\n",
      "rsample:  [5 4 3]\n",
      "sample:  [5, 4, 3]\n",
      " count  0  =  0.0\n",
      " count  1  =  0.0\n",
      " count  2  =  0.0\n",
      " count  3  =  0.0\n",
      " count  4  =  0.0\n",
      " count  5  =  10000.0\n"
     ]
    }
   ],
   "source": [
    "# test sampling the probablity distribution\n",
    "bar=[2,2,3,4,5,6]\n",
    "rs = rsample(bar, top_n=3, verbose=1)\n",
    "print(\"rsample: \", rs)\n",
    "print(\"sample: \", sample(bar))\n",
    "count=np.zeros(len(bar))\n",
    "for i in range(10000) :\n",
    "    foo=rsample(bar, top_n=topN)\n",
    "    #foo=sample(bar, top_n=topN)\n",
    "    #print(\"foo = \", foo)\n",
    "    for j in range(len(bar)) :\n",
    "        if j == foo[0] :\n",
    "            count[j]=count[j]+1\n",
    "\n",
    "for j in range(len(bar)) :\n",
    "    print(\" count \", str(j), \" = \", str(count[j]))\n",
    "    "
   ]
  },
  {
   "cell_type": "code",
   "execution_count": 118,
   "metadata": {
    "collapsed": true
   },
   "outputs": [],
   "source": [
    "def predict_completion_old(text):\n",
    "    print(\"predict_completion for: \", text)\n",
    "    original_text = text\n",
    "    generated = text\n",
    "    completion = ''\n",
    "    while True:\n",
    "        x = prepare_input(text)\n",
    "        preds = model.predict(x, verbose=0)[0]\n",
    "        next_index = rsample(preds, top_n=topN)[0] # SAMPLE\n",
    "        next_char = indices_char[next_index]\n",
    "        text = text[1:] + next_char\n",
    "        completion += next_char\n",
    "        \n",
    "        print(\"len is \", len(original_text + completion))\n",
    "        if (len(original_text + completion) + 2 > len(original_text) and next_char == ' ') or (len(original_text + completion) > 100) : \n",
    "            return completion"
   ]
  },
  {
   "cell_type": "code",
   "execution_count": 119,
   "metadata": {
    "collapsed": true
   },
   "outputs": [],
   "source": [
    "def wordEnd(c) :\n",
    "    if c in [' ', ';', '.', '!', ',', '?'] : \n",
    "        return True\n",
    "    else :\n",
    "        return False\n",
    "\n",
    "def predict_completion(text, condval):\n",
    "    print(\"predict_completion for: \", text)\n",
    "    original_text = text\n",
    "    generated = text\n",
    "    completion = ''\n",
    "\n",
    "    next_char=text[-1]\n",
    "    \n",
    "    x = prepare_input(text, condval)\n",
    "    while True:\n",
    "        \n",
    "        preds = model.predict(x, verbose=0)[0]\n",
    "        \n",
    "        if (wordEnd(next_char)) : #if we are about to start a new word\n",
    "            next_index = rsample(preds, top_n=topNStartWord)[0] # SAMPLE\n",
    "        else :\n",
    "            #can add a little more randomness so we don't get stuck in repetitions at the word level\n",
    "            next_index = rsample(preds, top_n=topN)[0] # SAMPLE\n",
    "                \n",
    "        next_char = indices_char[next_index]\n",
    "        text = text[1:] + next_char\n",
    "        completion += next_char\n",
    "        \n",
    "\n",
    "        if len(original_text + completion) > k_phraseLength : \n",
    "            print(\"Extended text is : \", original_text + completion)\n",
    "            return completion\n",
    "        \n",
    "        #if (len(original_text + completion) + 2 > len(original_text) and next_char == ' ') or (len(original_text + completion) > k_phraseLength100) :\n",
    "        #    return completion\n",
    "        \n",
    "        x=shift(next_char, condval, x)\n",
    "        "
   ]
  },
  {
   "cell_type": "code",
   "execution_count": 120,
   "metadata": {
    "collapsed": true
   },
   "outputs": [],
   "source": [
    "# predict n different completions for the first 40 characters of text.\n",
    "def predict_completions(text, condval, n=3 ):\n",
    "    x = prepare_input(text, condval)\n",
    "    preds = model.predict(x, verbose=0)[0]\n",
    "    next_indices = rsample(preds, n)  # SAMPLE (for the character folloiwng the input)\n",
    "    print(\"Will predict completions for the indices : \", [indices_char[idx] for idx in next_indices])\n",
    "    return [indices_char[idx] + predict_completion(text[0:] + indices_char[idx], condval) for idx in next_indices]\n"
   ]
  },
  {
   "cell_type": "code",
   "execution_count": 121,
   "metadata": {},
   "outputs": [
    {
     "name": "stdout",
     "output_type": "stream",
     "text": [
      "after you hear the word eleph\n",
      "will prepare:  after you hear the word eleph\n",
      "Will predict completions for the indices :  ['h', ' ', 'o', 'i', 'e']\n",
      "predict_completion for:  after you hear the word elephh\n",
      "will prepare:  after you hear the word elephh\n",
      "Extended text is :  after you hear the word elephhe ee ee     e    o  e o a  o at n  hehe e   heee      eh e   at  etn e \n",
      "predict_completion for:  after you hear the word eleph \n",
      "will prepare:  after you hear the word eleph \n",
      "Extended text is :  after you hear the word eleph n ne  e  t t   a  ne t o ae h  t eh e  h a e  aee  ne oe t  t aht  e e \n",
      "predict_completion for:  after you hear the word elepho\n",
      "will prepare:  after you hear the word elepho\n",
      "Extended text is :  after you hear the word elephon    oee   t n o to e o h  o r e  n t   o    e ee  a ie e    e  e n e e\n",
      "predict_completion for:  after you hear the word elephi\n",
      "will prepare:  after you hear the word elephi\n",
      "Extended text is :  after you hear the word elephin ee  et  i e te t   een ter o tt r h w he t  o t a n ee    e  ee o i a\n",
      "predict_completion for:  after you hear the word elephe\n",
      "will prepare:  after you hear the word elephe\n",
      "Extended text is :  after you hear the word elephee re ee h  e r n  o ee  h  ee t e  o n  tete e  e  t te n o r e  t o ae\n",
      "... and the completions are :  ['he ee ee     e    o  e o a  o at n  hehe e   heee      eh e   at  etn e ', ' n ne  e  t t   a  ne t o ae h  t eh e  h a e  aee  ne oe t  t aht  e e ', 'on    oee   t n o to e o h  o r e  n t   o    e ee  a ie e    e  e n e e', 'in ee  et  i e te t   een ter o tt r h w he t  o t a n ee    e  ee o i a', 'ee re ee h  e r n  o ee  h  ee t e  o n  tete e  e  t te n o r e  t o ae']\n",
      "\n",
      "friendship that makes unhappy \n",
      "will prepare:  friendship that makes unhappy \n",
      "Will predict completions for the indices :  ['o', ' ', 'r', 't', 'n']\n",
      "predict_completion for:  friendship that makes unhappy o\n",
      "will prepare:  friendship that makes unhappy o\n",
      "Extended text is :  friendship that makes unhappy o tee e n t  e t  n h e o o      a te e t e e   o e  i  e an o n     eo\n",
      "predict_completion for:  friendship that makes unhappy  \n",
      "will prepare:  friendship that makes unhappy  \n",
      "Extended text is :  friendship that makes unhappy  o oe e eh e    o o  e  e   e ae n te e iee t   oe ne  n nt a i n t te \n",
      "predict_completion for:  friendship that makes unhappy r\n",
      "will prepare:  friendship that makes unhappy r\n",
      "Extended text is :  friendship that makes unhappy r e o e e e t  n e s   t   e e o t t in oe oa re he t e  ot   o   e  e \n",
      "predict_completion for:  friendship that makes unhappy t\n",
      "will prepare:  friendship that makes unhappy t\n",
      "Extended text is :  friendship that makes unhappy t ee ee   o er t to e r oe a oe r  o  he  eh oth  iee   i e i te  et n \n",
      "predict_completion for:  friendship that makes unhappy n\n",
      "will prepare:  friendship that makes unhappy n\n",
      "Extended text is :  friendship that makes unhappy n   o e o o  ee r    e    o e  o  e ie oee e oee o   teh tthe   e    a \n",
      "... and the completions are :  ['o tee e n t  e t  n h e o o      a te e t e e   o e  i  e an o n     eo', ' o oe e eh e    o o  e  e   e ae n te e iee t   oe ne  n nt a i n t te ', 'r e o e e e t  n e s   t   e e o t t in oe oa re he t e  ot   o   e  e ', 't ee ee   o er t to e r oe a oe r  o  he  eh oth  iee   i e i te  et n ', 'n   o e o o  ee r    e    o e  o  e ie oee e oee o   teh tthe   e    a ']\n",
      "\n",
      "that which does not kill us makes us \n",
      "will prepare:  that which does not kill us makes us \n",
      "Will predict completions for the indices :  ['t', ' ', 'e', 'h', 'o']\n",
      "predict_completion for:  that which does not kill us makes us t\n",
      "will prepare:  that which does not kill us makes us t\n",
      "Extended text is :  that which does not kill us makes us t e in  n t n e r th o i e t t i i e h  e   ne    i o te ot o ee\n",
      "predict_completion for:  that which does not kill us makes us  \n",
      "will prepare:  that which does not kill us makes us  \n",
      "Extended text is :  that which does not kill us makes us   i  r on o t a e n h  e h te  e t e o  ee t  e e   e n he   et \n",
      "predict_completion for:  that which does not kill us makes us e\n",
      "will prepare:  that which does not kill us makes us e\n",
      "Extended text is :  that which does not kill us makes us e nn  e e he e  ee h  s h      t e o  t i o  a ee   o  hn e   e \n",
      "predict_completion for:  that which does not kill us makes us h\n",
      "will prepare:  that which does not kill us makes us h\n",
      "Extended text is :  that which does not kill us makes us h e  n o oe o  ne n n ot or  e e een  n t n o n e   e  e e   h h\n",
      "predict_completion for:  that which does not kill us makes us o\n",
      "will prepare:  that which does not kill us makes us o\n",
      "Extended text is :  that which does not kill us makes us o  n n  n e nn   e  o e    t i e e  o tt et te oe i ee  o  a    \n",
      "... and the completions are :  ['t e in  n t n e r th o i e t t i i e h  e   ne    i o te ot o ee', '  i  r on o t a e n h  e h te  e t e o  ee t  e e   e n he   et ', 'e nn  e e he e  ee h  s h      t e o  t i o  a ee   o  hn e   e ', 'h e  n o oe o  ne n n ot or  e e een  n t n o n e   e  e e   h h', 'o  n n  n e nn   e  o e    t i e e  o tt et te oe i ee  o  a    ']\n",
      "\n"
     ]
    }
   ],
   "source": [
    "#quotes = [\n",
    "#    \"It is not a lack of love, but a lack of friendship that makes unhappy marriages.\",\n",
    "#    \"That which does not kill us makes us stronger.\",\n",
    "#    \"I'm not upset that you lied to me, I'm upset that from now on I can't believe you.\",\n",
    "#    \"And those who were seen dancing were thought to be insane by those who could not hear the music.\",\n",
    "#    \"It is hard enough to remember my opinions, without also remembering my reasons for them!\"\n",
    "#]\n",
    "#\n",
    "\n",
    "#quotes = [\n",
    "#    \"It is not a lack of love, but a lack of friendship that makes unhappy marriages\"\n",
    "#    #\"It is not a lack of love, but a lack of friendship that makes un\"\n",
    "#]\n",
    "\n",
    "quotes = [\n",
    "    \"after you hear the word eleph\",\n",
    "    \"friendship that makes unhappy \",\n",
    "    \"That which does not kill us makes us \"\n",
    "]\n",
    "\n",
    "for q in quotes:\n",
    "    seq = q[-SEQUENCE_LENGTH:].lower()\n",
    "    print(seq)\n",
    "    print(\"... and the completions are : \" , predict_completions(seq, k_condWonderland, 5 ))\n",
    "    print()"
   ]
  },
  {
   "cell_type": "code",
   "execution_count": 122,
   "metadata": {},
   "outputs": [
    {
     "name": "stdout",
     "output_type": "stream",
     "text": [
      "after you hear the word eleph\n",
      "will prepare:  after you hear the word eleph\n",
      "Will predict completions for the indices :  ['i', ' ', 'e', 'r', 'h']\n",
      "predict_completion for:  after you hear the word elephi\n",
      "will prepare:  after you hear the word elephi\n",
      "Extended text is :  after you hear the word elephi oe t  h ne he t h one e ne r o eo  n  t  t o   to oeoe e e o ee n  one\n",
      "predict_completion for:  after you hear the word eleph \n",
      "will prepare:  after you hear the word eleph \n",
      "Extended text is :  after you hear the word eleph o o  en oe eenoeeo e ne te e tee o e   e e n e oe oe   a  the o e    ee\n",
      "predict_completion for:  after you hear the word elephe\n",
      "will prepare:  after you hear the word elephe\n",
      "Extended text is :  after you hear the word elephe  o e   o oee    e one e on o o  e t ee ooe  o o  n e ee    oe o  i ne \n",
      "predict_completion for:  after you hear the word elephr\n",
      "will prepare:  after you hear the word elephr\n",
      "Extended text is :  after you hear the word elephr e on he t   i e   o ee o   en t  t s eee te  t   e    oe e thee e oee \n",
      "predict_completion for:  after you hear the word elephh\n",
      "will prepare:  after you hear the word elephh\n",
      "Extended text is :  after you hear the word elephh      e   te oeo  o h the n o oe  the e e e  o n  on on hee r  e ee o e\n",
      "... and the completions are :  ['i oe t  h ne he t h one e ne r o eo  n  t  t o   to oeoe e e o ee n  one', ' o o  en oe eenoeeo e ne te e tee o e   e e n e oe oe   a  the o e    ee', 'e  o e   o oee    e one e on o o  e t ee ooe  o o  n e ee    oe o  i ne ', 'r e on he t   i e   o ee o   en t  t s eee te  t   e    oe e thee e oee ', 'h      e   te oeo  o h the n o oe  the e e e  o n  on on hee r  e ee o e']\n",
      "\n",
      "friendship that makes unhappy \n",
      "will prepare:  friendship that makes unhappy \n",
      "Will predict completions for the indices :  [' ', 'i', 't', 'e', 'o']\n",
      "predict_completion for:  friendship that makes unhappy  \n",
      "will prepare:  friendship that makes unhappy  \n",
      "Extended text is :  friendship that makes unhappy    h oe e  o o oee o  e to  eee  oe  e e o the o t  i te  o  e oe  oe t\n",
      "predict_completion for:  friendship that makes unhappy i\n",
      "will prepare:  friendship that makes unhappy i\n",
      "Extended text is :  friendship that makes unhappy ie o e ee ee o re   o te oo  e r e n   e onee e   o o  eet e ten re  e \n",
      "predict_completion for:  friendship that makes unhappy t\n",
      "will prepare:  friendship that makes unhappy t\n",
      "Extended text is :  friendship that makes unhappy te e te   o ee o o o ee  o  ne e in  tn  t   r ooe  er ae a  e ee o e  \n",
      "predict_completion for:  friendship that makes unhappy e\n",
      "will prepare:  friendship that makes unhappy e\n",
      "Extended text is :  friendship that makes unhappy eeon i e  se t  e e     o o  n e e o ee  e o e o eo ooee   o ee o  e  e\n",
      "predict_completion for:  friendship that makes unhappy o\n",
      "will prepare:  friendship that makes unhappy o\n",
      "Extended text is :  friendship that makes unhappy oe  oe  re o o  o  o o e  ae  i o tn  e e oee ne t  o e o e e e  o o oe\n",
      "... and the completions are :  ['   h oe e  o o oee o  e to  eee  oe  e e o the o t  i te  o  e oe  oe t', 'ie o e ee ee o re   o te oo  e r e n   e onee e   o o  eet e ten re  e ', 'te e te   o ee o o o ee  o  ne e in  tn  t   r ooe  er ae a  e ee o e  ', 'eeon i e  se t  e e     o o  n e e o ee  e o e o eo ooee   o ee o  e  e', 'oe  oe  re o o  o  o o e  ae  i o tn  e e oee ne t  o e o e e e  o o oe']\n",
      "\n",
      "that which does not kill us makes us \n",
      "will prepare:  that which does not kill us makes us \n",
      "Will predict completions for the indices :  [' ', 'o', 't', 's', 'e']\n",
      "predict_completion for:  that which does not kill us makes us  \n",
      "will prepare:  that which does not kill us makes us  \n",
      "Extended text is :  that which does not kill us makes us  oe non e o  t t   oe  o  he e te  r te     te t  e e o oehe a  \n",
      "predict_completion for:  that which does not kill us makes us o\n",
      "will prepare:  that which does not kill us makes us o\n",
      "Extended text is :  that which does not kill us makes us o o  n een ee  e e   ohe o  o     e h  on eo n ton   o   te e   \n",
      "predict_completion for:  that which does not kill us makes us t\n",
      "will prepare:  that which does not kill us makes us t\n",
      "Extended text is :  that which does not kill us makes us tee teo o   t i     n iee e   one  e    ee te o s one   o ee    \n",
      "predict_completion for:  that which does not kill us makes us s\n",
      "will prepare:  that which does not kill us makes us s\n",
      "Extended text is :  that which does not kill us makes us soe t r  t n o in  ee  t   t   e e  e o t a   o   e  oee n   e o\n",
      "predict_completion for:  that which does not kill us makes us e\n",
      "will prepare:  that which does not kill us makes us e\n",
      "Extended text is :  that which does not kill us makes us e o n e oe e  e o o o eeo e   o  o e e e   r  e     toe t    ee \n",
      "... and the completions are :  [' oe non e o  t t   oe  o  he e te  r te     te t  e e o oehe a  ', 'o o  n een ee  e e   ohe o  o     e h  on eo n ton   o   te e   ', 'tee teo o   t i     n iee e   one  e    ee te o s one   o ee    ', 'soe t r  t n o in  ee  t   t   e e  e o t a   o   e  oee n   e o', 'e o n e oe e  e o o o eeo e   o  o e e e   r  e     toe t    ee ']\n",
      "\n"
     ]
    }
   ],
   "source": [
    "#quotes = [\n",
    "#    \"It is not a lack of love, but a lack of friendship that makes unhappy marriages.\",\n",
    "#    \"That which does not kill us makes us stronger.\",\n",
    "#    \"I'm not upset that you lied to me, I'm upset that from now on I can't believe you.\",\n",
    "#    \"And those who were seen dancing were thought to be insane by those who could not hear the music.\",\n",
    "#    \"It is hard enough to remember my opinions, without also remembering my reasons for them!\"\n",
    "#]\n",
    "#\n",
    "\n",
    "#quotes = [\n",
    "#    \"It is not a lack of love, but a lack of friendship that makes unhappy marriages\"\n",
    "#    #\"It is not a lack of love, but a lack of friendship that makes un\"\n",
    "#]\n",
    "\n",
    "quotes = [\n",
    "    \"after you hear the word eleph\",\n",
    "    \"friendship that makes unhappy \",\n",
    "    \"That which does not kill us makes us \"\n",
    "]\n",
    "\n",
    "for q in quotes:\n",
    "    seq = q[-SEQUENCE_LENGTH:].lower()\n",
    "    print(seq)\n",
    "    print(\"... and the completions are : \" , predict_completions(seq, k_condNietzsche, 5 ))\n",
    "    print()\n",
    "    "
   ]
  },
  {
   "cell_type": "code",
   "execution_count": null,
   "metadata": {
    "collapsed": true
   },
   "outputs": [],
   "source": []
  },
  {
   "cell_type": "code",
   "execution_count": null,
   "metadata": {
    "collapsed": true
   },
   "outputs": [],
   "source": []
  }
 ],
 "metadata": {
  "kernelspec": {
   "display_name": "Python (keras)",
   "language": "python",
   "name": "myenv"
  },
  "language_info": {
   "codemirror_mode": {
    "name": "ipython",
    "version": 3
   },
   "file_extension": ".py",
   "mimetype": "text/x-python",
   "name": "python",
   "nbconvert_exporter": "python",
   "pygments_lexer": "ipython3",
   "version": "3.6.3"
  }
 },
 "nbformat": 4,
 "nbformat_minor": 2
}
