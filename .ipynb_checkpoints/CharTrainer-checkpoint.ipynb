{
 "cells": [
  {
   "cell_type": "code",
   "execution_count": 1,
   "metadata": {},
   "outputs": [
    {
     "name": "stderr",
     "output_type": "stream",
     "text": [
      "Using TensorFlow backend.\n"
     ]
    }
   ],
   "source": [
    "#https://medium.com/@curiousily/making-a-predictive-keyboard-using-recurrent-neural-networks-tensorflow-for-hackers-part-v-3f238d824218\n",
    "# note: I trained on alice in wonderland, about 1/4 the length of his Nietzsche data set.\n",
    "# I also tested with \"seeds\" that come from his Nietzsche examples!\n",
    "# TODO - why does validation not go down?   \n",
    "#    - what happens if you let it run further by itself? \n",
    "#   - Use  GRU instead of LSTM\n",
    "\n",
    "import numpy as np\n",
    "np.random.seed(42)\n",
    "import tensorflow as tf\n",
    "tf.set_random_seed(42)\n",
    "from keras.models import Sequential, load_model\n",
    "from keras.layers import Dense, Activation\n",
    "from keras.layers import LSTM, GRU, Dropout,BatchNormalization\n",
    "from keras.layers import TimeDistributed\n",
    "from keras.layers.core import Dense, Activation, Dropout, RepeatVector\n",
    "from keras.optimizers import RMSprop\n",
    "from keras import regularizers\n",
    "import matplotlib.pyplot as plt\n",
    "import pickle\n",
    "import sys\n",
    "import os\n",
    "\n",
    "from keras.callbacks import ModelCheckpoint\n",
    "\n",
    "import heapq\n",
    "import seaborn as sns\n",
    "from pylab import rcParams\n",
    "\n",
    "\n",
    "%matplotlib inline\n",
    "sns.set(style='whitegrid', palette='muted', font_scale=1.5)\n",
    "rcParams['figure.figsize'] = 12, 5"
   ]
  },
  {
   "cell_type": "code",
   "execution_count": 2,
   "metadata": {
    "collapsed": true
   },
   "outputs": [],
   "source": [
    "trainP=True\n",
    "useNietzsche=True\n",
    "useCarroll=True\n",
    "\n",
    "#FILENAME=\"carroll.3.20\"   #for writing or reading\n",
    "#FILENAME=\"nietzsche.3.20\"   #for writing or reading\n",
    "LOGDIR=\"LOG\"\n",
    "FILENAME=LOGDIR + \"/foobar\"\n",
    "\n",
    "if not os.path.exists(LOGDIR):\n",
    "    os.makedirs(LOGDIR)\n",
    "\n",
    "SEQUENCE_LENGTH = 40\n",
    "EPOCHS=40\n",
    "step = 2   #skip this number of chars for generating new training sequences\n",
    "layer1size=196\n",
    "topN=1\n",
    "topNStartWord=3\n",
    "k_phraseLength=100"
   ]
  },
  {
   "cell_type": "code",
   "execution_count": 3,
   "metadata": {
    "collapsed": true
   },
   "outputs": [],
   "source": [
    "import re as re\n",
    "def cleanText(text) :\n",
    "    # replace all numbers followed by an optional letter and then a dot (eg numbered paragraphs)\n",
    "    text = re.sub(\"(^|\\W)\\d+[a-zA-Z]*($|\\W|\\.)\", \"\", text)  \n",
    "    #escaped apotrophes\n",
    "    text = text.replace('\\n', ' ').replace(\"\\'\", \"'\").replace(\"\\\"\",\"\").replace('[Illustration]',\"\").replace('*',\"\")\n",
    "    #repeated white space\n",
    "    text=re.sub('\\s{2,}',' ', text)\n",
    "    return text\n",
    "    "
   ]
  },
  {
   "cell_type": "code",
   "execution_count": 4,
   "metadata": {},
   "outputs": [
    {
     "name": "stdout",
     "output_type": "stream",
     "text": [
      "corpus 1 length: 373778\n",
      "corpus 2 length: 51457\n",
      "total cleaned corpus length is  425235\n"
     ]
    }
   ],
   "source": [
    "text1=\"\"\n",
    "text2=\"\"\n",
    "\n",
    "if useNietzsche :\n",
    "    path = 'nietzsche.txt'\n",
    "    text1 = cleanText(open(path, 'r', encoding='utf-8').read().lower())\n",
    "    print('corpus 1 length:', len(text1))\n",
    "\n",
    "if useCarroll :\n",
    "    path = 'wonderland.txt'\n",
    "    text2 = cleanText(open(path, 'r', encoding='utf-8').read().lower())\n",
    "    print('corpus 2 length:', len(text2))\n",
    "\n",
    "text=text1+text2\n",
    "print('total cleaned corpus length is ', len(text))"
   ]
  },
  {
   "cell_type": "code",
   "execution_count": 5,
   "metadata": {},
   "outputs": [
    {
     "name": "stdout",
     "output_type": "stream",
     "text": [
      "unique chars: 43\n"
     ]
    }
   ],
   "source": [
    "chars = sorted(list(set(text)))\n",
    "char_indices = dict((c, i) for i, c in enumerate(chars))\n",
    "indices_char = dict((i, c) for i, c in enumerate(chars))\n",
    "\n",
    "lenchars=len(chars)\n",
    "lenconditional=2\n",
    "lenAugmentedInput=lenchars+lenconditional\n",
    "\n",
    "print(f'unique chars: {len(chars)}')\n",
    "#chars\n",
    "#indices_char\n",
    "#text"
   ]
  },
  {
   "cell_type": "code",
   "execution_count": 6,
   "metadata": {},
   "outputs": [
    {
     "name": "stdout",
     "output_type": "stream",
     "text": [
      "num training examples: 212578\n"
     ]
    }
   ],
   "source": [
    "# cut the corpus into chunks of 40 characters, spacing the sequences by 3 characters\n",
    "# Additionally, we will store the next character (the one we need to predict) for every sequence\n",
    "\n",
    "# condition on the dataset (cond vector to be concatenated with input)\n",
    "k_condNietzsche=[0,0]\n",
    "k_condWonderland=[0,0]\n",
    "\n",
    "sentences = []\n",
    "next_chars = []\n",
    "cond_input=[]\n",
    "\n",
    "if useNietzsche :\n",
    "    for i in range(0, len(text1) - SEQUENCE_LENGTH, step):\n",
    "        sentences.append(text1[i: i + SEQUENCE_LENGTH])\n",
    "        next_chars.append(text1[i + SEQUENCE_LENGTH])\n",
    "        cond_input.append(k_condNietzsche)\n",
    "\n",
    "if useCarroll :\n",
    "    for j in range(0, len(text2) - SEQUENCE_LENGTH, step):\n",
    "        sentences.append(text2[j: j + SEQUENCE_LENGTH])\n",
    "        next_chars.append(text2[j + SEQUENCE_LENGTH])\n",
    "        cond_input.append(k_condWonderland)\n",
    "\n",
    "print(f'num training examples: {len(sentences)}')"
   ]
  },
  {
   "cell_type": "code",
   "execution_count": 7,
   "metadata": {
    "collapsed": true
   },
   "outputs": [],
   "source": [
    "# generate features and labels - one-host versions of the input and prediction vectors\n",
    "\n",
    "X = np.zeros((len(sentences), SEQUENCE_LENGTH, lenAugmentedInput), dtype=np.bool)  #x[sample_index][one-hot array]\n",
    "y = np.zeros((len(sentences), lenchars), dtype=np.bool)\n",
    "for i, sentence in enumerate(sentences):\n",
    "    for t, char in enumerate(sentence):\n",
    "        X[i, t, char_indices[char]] = 1\n",
    "        X[i, t,-lenconditional:] = cond_input[i] # set conditional bit on last charcter in each training sample\n",
    "    y[i, char_indices[next_chars[i]]] = 1"
   ]
  },
  {
   "cell_type": "code",
   "execution_count": 8,
   "metadata": {},
   "outputs": [
    {
     "name": "stdout",
     "output_type": "stream",
     "text": [
      "len of first input vector, first character vector x is  45\n",
      "a character in a sentice is  [False False False False False False False False False False False False\n",
      " False False False False False False False False False False False  True\n",
      " False False False False False False False False False False False False\n",
      " False False False False False False False False False]\n"
     ]
    }
   ],
   "source": [
    "\n",
    "print(\"len of first input vector, first character vector x is \", str(len(X[0][0])))\n",
    "print(\"a character in a sentice is \", X[141000][0] )\n"
   ]
  },
  {
   "cell_type": "code",
   "execution_count": 9,
   "metadata": {},
   "outputs": [
    {
     "name": "stdout",
     "output_type": "stream",
     "text": [
      "(212578, 40, 45)\n"
     ]
    }
   ],
   "source": [
    "print(str(X.shape))   #training_samples, SEQUENCE_LENGTH, lenAugmentedInput"
   ]
  },
  {
   "cell_type": "code",
   "execution_count": 10,
   "metadata": {
    "collapsed": true
   },
   "outputs": [],
   "source": [
    "#LST layer with 128 neurons\n",
    "# takes a shape which is \n",
    "model = Sequential()\n",
    "model.add(LSTM(layer1size,  input_shape=(SEQUENCE_LENGTH, lenAugmentedInput)))\n",
    "\n",
    "#FAIL model.add(LSTM(layer1size, dropout=0.25, recurrent_dropout=0.25, input_shape=(SEQUENCE_LENGTH, lenAugmentedInput)))\n",
    "#FAIL model.add(GRU(layer1size,  input_shape=(SEQUENCE_LENGTH, lenAugmentedInput), kernel_regularizer=regularizers.l2(0.1), recurrent_regularizer=regularizers.l2(0.1), bias_regularizer=regularizers.l2(0.1), activity_regularizer=regularizers.l2(0.1)))\n",
    "\n",
    "#model.add(Dense(lenchars, kernel_regularizer=regularizers.l2(0.1),  bias_regularizer=regularizers.l2(0.1), activity_regularizer=regularizers.l2(0.1)))\n",
    "#model.add(Dense(lenchars, kernel_regularizer=regularizers.l2(0.1),  bias_regularizer=regularizers.l2(0.1), activity_regularizer=regularizers.l2(0.1)))\n",
    "model.add(BatchNormalization())\n",
    "#model.add(Dropout(0.5))\n",
    "model.add(Dense(lenchars))\n",
    "\n",
    "model.add(Activation('softmax'))"
   ]
  },
  {
   "cell_type": "code",
   "execution_count": 11,
   "metadata": {},
   "outputs": [
    {
     "data": {
      "text/plain": [
       "'LOG/foobarhistory.p'"
      ]
     },
     "execution_count": 11,
     "metadata": {},
     "output_type": "execute_result"
    }
   ],
   "source": [
    "FILENAME + 'history.p'"
   ]
  },
  {
   "cell_type": "code",
   "execution_count": 12,
   "metadata": {},
   "outputs": [
    {
     "name": "stdout",
     "output_type": "stream",
     "text": [
      "Train on 191320 samples, validate on 21258 samples\n",
      "Epoch 1/40\n",
      "191232/191320 [============================>.] - ETA: 0s - loss: 1.9886 - acc: 0.4074Epoch 00000: saving model to LOG/foobar.cp-00-0.39.hdf5\n",
      "191320/191320 [==============================] - 421s - loss: 1.9885 - acc: 0.4074 - val_loss: 2.1127 - val_acc: 0.3937\n",
      "Epoch 2/40\n",
      "191232/191320 [============================>.] - ETA: 0s - loss: 1.6189 - acc: 0.5122Epoch 00001: saving model to LOG/foobar.cp-01-0.44.hdf5\n",
      "191320/191320 [==============================] - 427s - loss: 1.6188 - acc: 0.5122 - val_loss: 2.0183 - val_acc: 0.4413\n",
      "Epoch 3/40\n",
      "191232/191320 [============================>.] - ETA: 0s - loss: 1.5097 - acc: 0.5434Epoch 00002: saving model to LOG/foobar.cp-02-0.46.hdf5\n",
      "191320/191320 [==============================] - 444s - loss: 1.5097 - acc: 0.5434 - val_loss: 1.9319 - val_acc: 0.4599\n",
      "Epoch 4/40\n",
      "191232/191320 [============================>.] - ETA: 0s - loss: 1.4529 - acc: 0.5611Epoch 00003: saving model to LOG/foobar.cp-03-0.46.hdf5\n",
      "191320/191320 [==============================] - 444s - loss: 1.4528 - acc: 0.5611 - val_loss: 1.9844 - val_acc: 0.4614\n",
      "Epoch 5/40\n",
      "191232/191320 [============================>.] - ETA: 0s - loss: 1.4159 - acc: 0.5698Epoch 00004: saving model to LOG/foobar.cp-04-0.45.hdf5\n",
      "191320/191320 [==============================] - 452s - loss: 1.4160 - acc: 0.5698 - val_loss: 1.9646 - val_acc: 0.4503\n",
      "Epoch 6/40\n",
      "191232/191320 [============================>.] - ETA: 0s - loss: 1.3896 - acc: 0.5774Epoch 00005: saving model to LOG/foobar.cp-05-0.47.hdf5\n",
      "191320/191320 [==============================] - 450s - loss: 1.3896 - acc: 0.5774 - val_loss: 1.9322 - val_acc: 0.4714\n",
      "Epoch 7/40\n",
      "191232/191320 [============================>.] - ETA: 0s - loss: 1.3718 - acc: 0.5825Epoch 00006: saving model to LOG/foobar.cp-06-0.47.hdf5\n",
      "191320/191320 [==============================] - 452s - loss: 1.3718 - acc: 0.5825 - val_loss: 1.9622 - val_acc: 0.4667\n",
      "Epoch 8/40\n",
      "191232/191320 [============================>.] - ETA: 0s - loss: 1.5780 - acc: 0.5350Epoch 00007: saving model to LOG/foobar.cp-07-0.47.hdf5\n",
      "191320/191320 [==============================] - 452s - loss: 1.5780 - acc: 0.5350 - val_loss: 1.9531 - val_acc: 0.4698\n",
      "Epoch 9/40\n",
      "191232/191320 [============================>.] - ETA: 0s - loss: 1.3663 - acc: 0.5844Epoch 00008: saving model to LOG/foobar.cp-08-0.47.hdf5\n",
      "191320/191320 [==============================] - 439s - loss: 1.3664 - acc: 0.5843 - val_loss: 1.9460 - val_acc: 0.4736\n",
      "Epoch 10/40\n",
      "191232/191320 [============================>.] - ETA: 0s - loss: 1.3443 - acc: 0.5896Epoch 00009: saving model to LOG/foobar.cp-09-0.47.hdf5\n",
      "191320/191320 [==============================] - 430s - loss: 1.3442 - acc: 0.5896 - val_loss: 1.9273 - val_acc: 0.4748\n",
      "Epoch 11/40\n",
      "191232/191320 [============================>.] - ETA: 0s - loss: 1.3397 - acc: 0.5923Epoch 00010: saving model to LOG/foobar.cp-10-0.46.hdf5\n",
      "191320/191320 [==============================] - 427s - loss: 1.3397 - acc: 0.5923 - val_loss: 1.9831 - val_acc: 0.4577\n",
      "Epoch 12/40\n",
      "191232/191320 [============================>.] - ETA: 0s - loss: 1.3402 - acc: 0.5908Epoch 00011: saving model to LOG/foobar.cp-11-0.47.hdf5\n",
      "191320/191320 [==============================] - 425s - loss: 1.3402 - acc: 0.5908 - val_loss: 2.0144 - val_acc: 0.4719\n",
      "Epoch 13/40\n",
      "191232/191320 [============================>.] - ETA: 0s - loss: 2.0474 - acc: 0.4184Epoch 00012: saving model to LOG/foobar.cp-12-0.18.hdf5\n",
      "191320/191320 [==============================] - 427s - loss: 2.0479 - acc: 0.4183 - val_loss: 3.0070 - val_acc: 0.1787\n",
      "Epoch 14/40\n",
      "191232/191320 [============================>.] - ETA: 0s - loss: 2.9021 - acc: 0.1727Epoch 00013: saving model to LOG/foobar.cp-13-0.19.hdf5\n",
      "191320/191320 [==============================] - 426s - loss: 2.9021 - acc: 0.1727 - val_loss: 2.9870 - val_acc: 0.1924\n",
      "Epoch 15/40\n",
      "191232/191320 [============================>.] - ETA: 0s - loss: 2.9042 - acc: 0.1706Epoch 00014: saving model to LOG/foobar.cp-14-0.18.hdf5\n",
      "191320/191320 [==============================] - 430s - loss: 2.9042 - acc: 0.1706 - val_loss: 2.9896 - val_acc: 0.1787\n",
      "Epoch 16/40\n",
      "191232/191320 [============================>.] - ETA: 0s - loss: 2.8987 - acc: 0.1717Epoch 00015: saving model to LOG/foobar.cp-15-0.19.hdf5\n",
      "191320/191320 [==============================] - 428s - loss: 2.8988 - acc: 0.1717 - val_loss: 2.9719 - val_acc: 0.1927\n",
      "Epoch 17/40\n",
      "191232/191320 [============================>.] - ETA: 0s - loss: 2.9042 - acc: 0.1703Epoch 00016: saving model to LOG/foobar.cp-16-0.19.hdf5\n",
      "191320/191320 [==============================] - 429s - loss: 2.9042 - acc: 0.1703 - val_loss: 2.9742 - val_acc: 0.1936\n",
      "Epoch 18/40\n",
      "191232/191320 [============================>.] - ETA: 0s - loss: 2.9172 - acc: 0.1668Epoch 00017: saving model to LOG/foobar.cp-17-0.18.hdf5\n",
      "191320/191320 [==============================] - 425s - loss: 2.9171 - acc: 0.1669 - val_loss: 2.9845 - val_acc: 0.1842\n",
      "Epoch 19/40\n",
      "191232/191320 [============================>.] - ETA: 0s - loss: 2.9106 - acc: 0.1684Epoch 00018: saving model to LOG/foobar.cp-18-0.16.hdf5\n",
      "191320/191320 [==============================] - 427s - loss: 2.9106 - acc: 0.1684 - val_loss: 3.0260 - val_acc: 0.1599\n",
      "Epoch 20/40\n",
      "191232/191320 [============================>.] - ETA: 0s - loss: 2.9086 - acc: 0.1688Epoch 00019: saving model to LOG/foobar.cp-19-0.19.hdf5\n",
      "191320/191320 [==============================] - 430s - loss: 2.9086 - acc: 0.1688 - val_loss: 3.0056 - val_acc: 0.1854\n",
      "Epoch 21/40\n",
      "191232/191320 [============================>.] - ETA: 0s - loss: 2.9111 - acc: 0.1681Epoch 00020: saving model to LOG/foobar.cp-20-0.19.hdf5\n",
      "191320/191320 [==============================] - 432s - loss: 2.9111 - acc: 0.1681 - val_loss: 2.9800 - val_acc: 0.1893\n",
      "Epoch 22/40\n",
      "191232/191320 [============================>.] - ETA: 0s - loss: 2.9042 - acc: 0.1689Epoch 00021: saving model to LOG/foobar.cp-21-0.19.hdf5\n",
      "191320/191320 [==============================] - 436s - loss: 2.9042 - acc: 0.1689 - val_loss: 2.9739 - val_acc: 0.1866\n",
      "Epoch 23/40\n",
      "191232/191320 [============================>.] - ETA: 0s - loss: 2.8962 - acc: 0.1716Epoch 00022: saving model to LOG/foobar.cp-22-0.17.hdf5\n",
      "191320/191320 [==============================] - 435s - loss: 2.8963 - acc: 0.1716 - val_loss: 3.0112 - val_acc: 0.1735\n",
      "Epoch 24/40\n",
      "191232/191320 [============================>.] - ETA: 0s - loss: 2.9195 - acc: 0.1657Epoch 00023: saving model to LOG/foobar.cp-23-0.19.hdf5\n",
      "191320/191320 [==============================] - 434s - loss: 2.9195 - acc: 0.1657 - val_loss: 2.9954 - val_acc: 0.1868\n",
      "Epoch 25/40\n",
      "191232/191320 [============================>.] - ETA: 0s - loss: 2.9236 - acc: 0.1657Epoch 00024: saving model to LOG/foobar.cp-24-0.19.hdf5\n",
      "191320/191320 [==============================] - 439s - loss: 2.9236 - acc: 0.1658 - val_loss: 3.0001 - val_acc: 0.1868\n",
      "Epoch 26/40\n",
      "191232/191320 [============================>.] - ETA: 0s - loss: 2.9231 - acc: 0.1666Epoch 00025: saving model to LOG/foobar.cp-25-0.19.hdf5\n",
      "191320/191320 [==============================] - 436s - loss: 2.9230 - acc: 0.1666 - val_loss: 2.9985 - val_acc: 0.1895\n",
      "Epoch 27/40\n",
      "191232/191320 [============================>.] - ETA: 0s - loss: 2.9099 - acc: 0.1686Epoch 00026: saving model to LOG/foobar.cp-26-0.18.hdf5\n",
      "191320/191320 [==============================] - 437s - loss: 2.9098 - acc: 0.1686 - val_loss: 2.9963 - val_acc: 0.1773\n",
      "Epoch 28/40\n",
      "191232/191320 [============================>.] - ETA: 0s - loss: 2.9180 - acc: 0.1669Epoch 00027: saving model to LOG/foobar.cp-27-0.19.hdf5\n",
      "191320/191320 [==============================] - 437s - loss: 2.9180 - acc: 0.1669 - val_loss: 3.0008 - val_acc: 0.1877\n",
      "Epoch 29/40\n",
      "191232/191320 [============================>.] - ETA: 0s - loss: 2.9200 - acc: 0.1653Epoch 00028: saving model to LOG/foobar.cp-28-0.19.hdf5\n",
      "191320/191320 [==============================] - 436s - loss: 2.9199 - acc: 0.1654 - val_loss: 3.0074 - val_acc: 0.1895\n",
      "Epoch 30/40\n",
      "191232/191320 [============================>.] - ETA: 0s - loss: 2.9287 - acc: 0.1641Epoch 00029: saving model to LOG/foobar.cp-29-0.19.hdf5\n",
      "191320/191320 [==============================] - 441s - loss: 2.9287 - acc: 0.1641 - val_loss: 3.0027 - val_acc: 0.1860\n",
      "Epoch 31/40\n",
      "191232/191320 [============================>.] - ETA: 0s - loss: 2.9339 - acc: 0.1641Epoch 00030: saving model to LOG/foobar.cp-30-0.18.hdf5\n",
      "191320/191320 [==============================] - 425s - loss: 2.9338 - acc: 0.1641 - val_loss: 3.0072 - val_acc: 0.1849\n",
      "Epoch 32/40\n",
      "191232/191320 [============================>.] - ETA: 0s - loss: 2.9288 - acc: 0.1642Epoch 00031: saving model to LOG/foobar.cp-31-0.19.hdf5\n",
      "191320/191320 [==============================] - 426s - loss: 2.9288 - acc: 0.1642 - val_loss: 3.0151 - val_acc: 0.1883\n",
      "Epoch 33/40\n",
      "191232/191320 [============================>.] - ETA: 0s - loss: 2.9214 - acc: 0.1656Epoch 00032: saving model to LOG/foobar.cp-32-0.19.hdf5\n",
      "191320/191320 [==============================] - 428s - loss: 2.9214 - acc: 0.1656 - val_loss: 2.9922 - val_acc: 0.1909\n",
      "Epoch 34/40\n",
      "191232/191320 [============================>.] - ETA: 0s - loss: 2.9107 - acc: 0.1681Epoch 00033: saving model to LOG/foobar.cp-33-0.19.hdf5\n",
      "191320/191320 [==============================] - 426s - loss: 2.9106 - acc: 0.1681 - val_loss: 2.9759 - val_acc: 0.1943\n",
      "Epoch 35/40\n",
      "191232/191320 [============================>.] - ETA: 0s - loss: 2.9092 - acc: 0.1687Epoch 00034: saving model to LOG/foobar.cp-34-0.19.hdf5\n",
      "191320/191320 [==============================] - 425s - loss: 2.9092 - acc: 0.1687 - val_loss: 2.9737 - val_acc: 0.1924\n",
      "Epoch 36/40\n",
      "191232/191320 [============================>.] - ETA: 0s - loss: 2.8932 - acc: 0.1740Epoch 00035: saving model to LOG/foobar.cp-35-0.20.hdf5\n",
      "191320/191320 [==============================] - 428s - loss: 2.8931 - acc: 0.1740 - val_loss: 2.9596 - val_acc: 0.1963\n",
      "Epoch 37/40\n",
      "191232/191320 [============================>.] - ETA: 0s - loss: 2.8869 - acc: 0.1755Epoch 00036: saving model to LOG/foobar.cp-36-0.19.hdf5\n",
      "191320/191320 [==============================] - 423s - loss: 2.8869 - acc: 0.1755 - val_loss: 3.0085 - val_acc: 0.1850\n",
      "Epoch 38/40\n",
      "191232/191320 [============================>.] - ETA: 0s - loss: 2.9096 - acc: 0.1693Epoch 00037: saving model to LOG/foobar.cp-37-0.19.hdf5\n",
      "191320/191320 [==============================] - 420s - loss: 2.9096 - acc: 0.1693 - val_loss: 3.0082 - val_acc: 0.1858\n",
      "Epoch 39/40\n",
      "191232/191320 [============================>.] - ETA: 0s - loss: 2.9065 - acc: 0.1682Epoch 00038: saving model to LOG/foobar.cp-38-0.19.hdf5\n",
      "191320/191320 [==============================] - 419s - loss: 2.9065 - acc: 0.1682 - val_loss: 2.9601 - val_acc: 0.1924\n",
      "Epoch 40/40\n",
      "191232/191320 [============================>.] - ETA: 0s - loss: 2.8957 - acc: 0.1719Epoch 00039: saving model to LOG/foobar.cp-39-0.18.hdf5\n",
      "191320/191320 [==============================] - 421s - loss: 2.8957 - acc: 0.1719 - val_loss: 3.0003 - val_acc: 0.1815\n"
     ]
    }
   ],
   "source": [
    "# Train. Validate with 5% of the examples\n",
    "\n",
    "\n",
    "if trainP :\n",
    "    optimizer = RMSprop(lr=0.01)\n",
    "    model.compile(loss='categorical_crossentropy', optimizer=optimizer, metrics=['accuracy'])\n",
    "    \n",
    "    # checkpoint\n",
    "    filepath= FILENAME + \".cp-{epoch:02d}-{val_acc:.2f}.hdf5\"\n",
    "    checkpoint = ModelCheckpoint(filepath, monitor='val_acc', verbose=1)\n",
    "    callbacks_list = [checkpoint]\n",
    "\n",
    "\n",
    "    history = model.fit(X, y, validation_split=0.1, batch_size=128, epochs=EPOCHS, shuffle=True, callbacks=callbacks_list).history\n",
    "\n",
    "    #Save (How does this work ??)\n",
    "    model.save(FILENAME + '.keras_model.h5')\n",
    "    pickle.dump(history, open(FILENAME + 'history.p', 'wb'))\n"
   ]
  },
  {
   "cell_type": "code",
   "execution_count": 13,
   "metadata": {
    "collapsed": true
   },
   "outputs": [],
   "source": [
    "\n",
    "# check to make sure the save worked\n",
    "model = load_model(FILENAME + '.keras_model.h5')\n",
    "history = pickle.load(open(FILENAME + 'history.p', \"rb\"))"
   ]
  },
  {
   "cell_type": "code",
   "execution_count": 14,
   "metadata": {},
   "outputs": [
    {
     "data": {
      "image/png": "[encoded data removed]",
      "text/plain": [
       "<matplotlib.figure.Figure at 0x11e5e61d0>"
      ]
     },
     "metadata": {},
     "output_type": "display_data"
    }
   ],
   "source": [
    "plt.plot(history['acc'])\n",
    "plt.plot(history['val_acc'])\n",
    "plt.title('model accuracy')\n",
    "plt.ylabel('accuracy')\n",
    "plt.xlabel('epoch')\n",
    "plt.legend(['train', 'test'], loc='upper left');"
   ]
  },
  {
   "cell_type": "code",
   "execution_count": 15,
   "metadata": {},
   "outputs": [
    {
     "data": {
      "image/png": "[encoded data removed]",
      "text/plain": [
       "<matplotlib.figure.Figure at 0x11e5e6ac8>"
      ]
     },
     "metadata": {},
     "output_type": "display_data"
    }
   ],
   "source": [
    "plt.plot(history['loss'])\n",
    "plt.plot(history['val_loss'])\n",
    "plt.title('model loss')\n",
    "plt.ylabel('loss')\n",
    "plt.xlabel('epoch')\n",
    "plt.legend(['train', 'test'], loc='upper left');"
   ]
  },
  {
   "cell_type": "code",
   "execution_count": 16,
   "metadata": {
    "collapsed": true
   },
   "outputs": [],
   "source": [
    "# create one-hot represetntation of input (will be padded with 0 vectors if text < SEQUENCE_LENGTH chars)\n",
    "def prepare_input_old(text):\n",
    "    print(\"will prepare: \", text)\n",
    "    x = np.zeros((1, SEQUENCE_LENGTH, len(chars)))  \n",
    "\n",
    "    for t, char in enumerate(text):\n",
    "        x[0, t, char_indices[char]] = 1.\n",
    "        \n",
    "    return x"
   ]
  },
  {
   "cell_type": "code",
   "execution_count": 17,
   "metadata": {
    "collapsed": true
   },
   "outputs": [],
   "source": [
    "# changes \"oldest\" element in buffer to new element, then rolls the circular buffer \n",
    "def shift(c,condval,buf) :\n",
    "    buf[0,0].fill(0)\n",
    "    buf[0,0,char_indices[c]]=1\n",
    "    buf[0,0,-lenconditional:]=condval\n",
    "    buf[0]=np.roll(buf[0],-1, 0)\n",
    "    return buf\n",
    "    \n",
    "# create one-hot represetntation of input (will be padded with 0 vectors if text < SEQUENCE_LENGTH chars)\n",
    "def prepare_input(text,condval):\n",
    "    print(\"will prepare: \", text)\n",
    "    x = np.zeros((1, SEQUENCE_LENGTH, lenAugmentedInput))  \n",
    "    for t, char in enumerate(text):\n",
    "        shift(char, condval, x)      \n",
    "    return x"
   ]
  },
  {
   "cell_type": "code",
   "execution_count": 18,
   "metadata": {
    "collapsed": true
   },
   "outputs": [],
   "source": [
    "# preds is an array of scores greater than 0 for each letter\n",
    "# sample(preds) return the indexes of the n highest\n",
    "#\n",
    "# NOTE: If you aren't going to throw the dice, why not just take the 3 largest in the preds array directly?\n",
    "#\n",
    "def sample(preds, top_n=3):\n",
    "    preds = np.asarray(preds).astype('float64')\n",
    "    preds = np.log(preds)\n",
    "    exp_preds = np.exp(preds)\n",
    "    preds = exp_preds / np.sum(exp_preds)\n",
    "    #print('preds are ', preds)\n",
    "    \n",
    "    return heapq.nlargest(top_n, range(len(preds)), preds.take) # 3rd arg is a 1-arg function used as key for sorting"
   ]
  },
  {
   "cell_type": "code",
   "execution_count": 19,
   "metadata": {
    "collapsed": true
   },
   "outputs": [],
   "source": [
    "# preds is an array of scores unnormalized scores (logits)\n",
    "# rsample(preds) Selects top_n, then throws dice to choose them in a randomized order based on their relative prob.\n",
    "\n",
    "def rsample(preds, top_n=3, verbose=0):\n",
    "    preds = np.asarray(preds).astype('float64')\n",
    "    \n",
    "    exp_preds = np.exp(preds)\n",
    "    #sm=np.sum(exp_preds)\n",
    "    preds = exp_preds / exp_preds.sum(0)\n",
    "    \n",
    "    # indexes of largest vals in preds, orders large to small\n",
    "    idx = heapq.nlargest(top_n, range(len(preds)), preds.take)\n",
    "    # and their values\n",
    "    vals = np.take(preds, idx )\n",
    "    #normalized (for np.random.choice)\n",
    "    vals=vals/vals.sum(0)\n",
    "    \n",
    "    if (verbose == 1) :\n",
    "        print(\"probability vals are \", vals)\n",
    "    your_samples = np.random.choice(idx, size=top_n, replace=False,p=vals)\n",
    "    return your_samples\n"
   ]
  },
  {
   "cell_type": "code",
   "execution_count": 20,
   "metadata": {},
   "outputs": [
    {
     "name": "stdout",
     "output_type": "stream",
     "text": [
      "probability vals are  [ 0.66524096  0.24472847  0.09003057]\n",
      "rsample:  [5 4 3]\n",
      "sample:  [5, 4, 3]\n",
      " count  0  =  0.0\n",
      " count  1  =  0.0\n",
      " count  2  =  0.0\n",
      " count  3  =  0.0\n",
      " count  4  =  0.0\n",
      " count  5  =  10000.0\n"
     ]
    }
   ],
   "source": [
    "# test sampling the probablity distribution\n",
    "bar=[2,2,3,4,5,6]\n",
    "rs = rsample(bar, top_n=3, verbose=1)\n",
    "print(\"rsample: \", rs)\n",
    "print(\"sample: \", sample(bar))\n",
    "count=np.zeros(len(bar))\n",
    "for i in range(10000) :\n",
    "    foo=rsample(bar, top_n=topN)\n",
    "    #foo=sample(bar, top_n=topN)\n",
    "    #print(\"foo = \", foo)\n",
    "    for j in range(len(bar)) :\n",
    "        if j == foo[0] :\n",
    "            count[j]=count[j]+1\n",
    "\n",
    "for j in range(len(bar)) :\n",
    "    print(\" count \", str(j), \" = \", str(count[j]))\n",
    "    "
   ]
  },
  {
   "cell_type": "code",
   "execution_count": 21,
   "metadata": {
    "collapsed": true
   },
   "outputs": [],
   "source": [
    "def predict_completion_old(text):\n",
    "    print(\"predict_completion for: \", text)\n",
    "    original_text = text\n",
    "    generated = text\n",
    "    completion = ''\n",
    "    while True:\n",
    "        x = prepare_input(text)\n",
    "        preds = model.predict(x, verbose=0)[0]\n",
    "        next_index = rsample(preds, top_n=topN)[0] # SAMPLE\n",
    "        next_char = indices_char[next_index]\n",
    "        text = text[1:] + next_char\n",
    "        completion += next_char\n",
    "        \n",
    "        print(\"len is \", len(original_text + completion))\n",
    "        if (len(original_text + completion) + 2 > len(original_text) and next_char == ' ') or (len(original_text + completion) > 100) : \n",
    "            return completion"
   ]
  },
  {
   "cell_type": "code",
   "execution_count": 22,
   "metadata": {
    "collapsed": true
   },
   "outputs": [],
   "source": [
    "def wordEnd(c) :\n",
    "    if c in [' ', ';', '.', '!', ',', '?'] : \n",
    "        return True\n",
    "    else :\n",
    "        return False\n",
    "\n",
    "def predict_completion(text, condval):\n",
    "    print(\"predict_completion for: \", text)\n",
    "    original_text = text\n",
    "    generated = text\n",
    "    completion = ''\n",
    "\n",
    "    next_char=text[-1]\n",
    "    \n",
    "    x = prepare_input(text, condval)\n",
    "    while True:\n",
    "        \n",
    "        preds = model.predict(x, verbose=0)[0]\n",
    "        \n",
    "        if (wordEnd(next_char)) : #if we are about to start a new word\n",
    "            next_index = rsample(preds, top_n=topNStartWord)[0] # SAMPLE\n",
    "        else :\n",
    "            #can add a little more randomness so we don't get stuck in repetitions at the word level\n",
    "            next_index = rsample(preds, top_n=topN)[0] # SAMPLE\n",
    "                \n",
    "        next_char = indices_char[next_index]\n",
    "        text = text[1:] + next_char\n",
    "        completion += next_char\n",
    "        \n",
    "\n",
    "        if len(original_text + completion) > k_phraseLength : \n",
    "            print(\"Extended text is : \", original_text + completion)\n",
    "            return completion\n",
    "        \n",
    "        #if (len(original_text + completion) + 2 > len(original_text) and next_char == ' ') or (len(original_text + completion) > k_phraseLength100) :\n",
    "        #    return completion\n",
    "        \n",
    "        x=shift(next_char, condval, x)\n",
    "        "
   ]
  },
  {
   "cell_type": "code",
   "execution_count": 23,
   "metadata": {
    "collapsed": true
   },
   "outputs": [],
   "source": [
    "# predict n different completions for the first 40 characters of text.\n",
    "def predict_completions(text, condval, n=3 ):\n",
    "    x = prepare_input(text, condval)\n",
    "    preds = model.predict(x, verbose=0)[0]\n",
    "    next_indices = rsample(preds, n)  # SAMPLE (for the character folloiwng the input)\n",
    "    print(\"Will predict completions for the indices : \", [indices_char[idx] for idx in next_indices])\n",
    "    return [indices_char[idx] + predict_completion(text[0:] + indices_char[idx], condval) for idx in next_indices]\n"
   ]
  },
  {
   "cell_type": "code",
   "execution_count": 24,
   "metadata": {},
   "outputs": [
    {
     "name": "stdout",
     "output_type": "stream",
     "text": [
      "after you hear the word eleph\n",
      "will prepare:  after you hear the word eleph\n",
      "Will predict completions for the indices :  ['r', 'o', 'e', 'n', ' ']\n",
      "predict_completion for:  after you hear the word elephr\n",
      "will prepare:  after you hear the word elephr\n",
      "Extended text is :  after you hear the word elephre e oe h    e   o   o oe e  in  a en  o ee ee r e  o  o e  o en e n e  \n",
      "predict_completion for:  after you hear the word elepho\n",
      "will prepare:  after you hear the word elepho\n",
      "Extended text is :  after you hear the word elephoe e e e  te  re  o   e e e e   ee ee  ese  e r t o    on e  o e  o   th\n",
      "predict_completion for:  after you hear the word elephe\n",
      "will prepare:  after you hear the word elephe\n",
      "Extended text is :  after you hear the word elephee e t oe e o t    o i  o e o ee t o ee t t  nene ne  eer th e  o t t en\n",
      "predict_completion for:  after you hear the word elephn\n",
      "will prepare:  after you hear the word elephn\n",
      "Extended text is :  after you hear the word elephne ien i  e a t   ie en e oee e tne e  n on    on e oon ene  ann e   i e\n",
      "predict_completion for:  after you hear the word eleph \n",
      "will prepare:  after you hear the word eleph \n",
      "Extended text is :  after you hear the word eleph o  e   on er te   t t e  ne r e  o a an eee  thon on     t a e  n t on \n",
      "... and the completions are :  ['re e oe h    e   o   o oe e  in  a en  o ee ee r e  o  o e  o en e n e  ', 'oe e e e  te  re  o   e e e e   ee ee  ese  e r t o    on e  o e  o   th', 'ee e t oe e o t    o i  o e o ee t o ee t t  nene ne  eer th e  o t t en', 'ne ien i  e a t   ie en e oee e tne e  n on    on e oon ene  ann e   i e', ' o  e   on er te   t t e  ne r e  o a an eee  thon on     t a e  n t on ']\n",
      "\n",
      "friendship that makes unhappy \n",
      "will prepare:  friendship that makes unhappy \n",
      "Will predict completions for the indices :  ['o', 't', ' ', 'n', 'e']\n",
      "predict_completion for:  friendship that makes unhappy o\n",
      "will prepare:  friendship that makes unhappy o\n",
      "Extended text is :  friendship that makes unhappy on   the ohe o re r oo n eo oe e  a t ine oe t  o e  e io   e   t r  on\n",
      "predict_completion for:  friendship that makes unhappy t\n",
      "will prepare:  friendship that makes unhappy t\n",
      "Extended text is :  friendship that makes unhappy the    o e ree tone  e o o i tee r e  e a e on ee ee  t oe e  e o   o  \n",
      "predict_completion for:  friendship that makes unhappy  \n",
      "will prepare:  friendship that makes unhappy  \n",
      "Extended text is :  friendship that makes unhappy   t  a on   oen e   er     n o  o aere e r o e rnee t oe oe t on et   e\n",
      "predict_completion for:  friendship that makes unhappy n\n",
      "will prepare:  friendship that makes unhappy n\n",
      "Extended text is :  friendship that makes unhappy n e  t e on  te   en   i ae on  he e e oo eo o  t o a  t t ee o o e en \n",
      "predict_completion for:  friendship that makes unhappy e\n",
      "will prepare:  friendship that makes unhappy e\n",
      "Extended text is :  friendship that makes unhappy e  n o   o  a e     eere ee  een     oor t the  o e e  oe sne   o t te \n",
      "... and the completions are :  ['on   the ohe o re r oo n eo oe e  a t ine oe t  o e  e io   e   t r  on', 'the    o e ree tone  e o o i tee r e  e a e on ee ee  t oe e  e o   o  ', '  t  a on   oen e   er     n o  o aere e r o e rnee t oe oe t on et   e', 'n e  t e on  te   en   i ae on  he e e oo eo o  t o a  t t ee o o e en ', 'e  n o   o  a e     eere ee  een     oor t the  o e e  oe sne   o t te ']\n",
      "\n",
      "that which does not kill us makes us \n",
      "will prepare:  that which does not kill us makes us \n",
      "Will predict completions for the indices :  ['a', ' ', 'o', 't', 'e']\n",
      "predict_completion for:  that which does not kill us makes us a\n",
      "will prepare:  that which does not kill us makes us a\n",
      "Extended text is :  that which does not kill us makes us aoe    e  r  o eo e oo oe tone on n n  rn r e o ee on a e o  n n\n",
      "predict_completion for:  that which does not kill us makes us  \n",
      "will prepare:  that which does not kill us makes us  \n",
      "Extended text is :  that which does not kill us makes us  toe  o he    eee o  a tee in  re    e er t o rn    e o e t e  o\n",
      "predict_completion for:  that which does not kill us makes us o\n",
      "will prepare:  that which does not kill us makes us o\n",
      "Extended text is :  that which does not kill us makes us ooe o e  hee r o  n eno   e  ano e on   n  o ne oe nee    onthe \n",
      "predict_completion for:  that which does not kill us makes us t\n",
      "will prepare:  that which does not kill us makes us t\n",
      "Extended text is :  that which does not kill us makes us toe oe  eehe  e o o eee  e  e  e t e  e oe   one ioe e  ane e ne\n",
      "predict_completion for:  that which does not kill us makes us e\n",
      "will prepare:  that which does not kill us makes us e\n",
      "Extended text is :  that which does not kill us makes us eoo e  ee toee or ne ae t t oeen  o   o e r i o e n    rn e ne t\n",
      "... and the completions are :  ['aoe    e  r  o eo e oo oe tone on n n  rn r e o ee on a e o  n n', ' toe  o he    eee o  a tee in  re    e er t o rn    e o e t e  o', 'ooe o e  hee r o  n eno   e  ano e on   n  o ne oe nee    onthe ', 'toe oe  eehe  e o o eee  e  e  e t e  e oe   one ioe e  ane e ne', 'eoo e  ee toee or ne ae t t oeen  o   o e r i o e n    rn e ne t']\n",
      "\n"
     ]
    }
   ],
   "source": [
    "#quotes = [\n",
    "#    \"It is not a lack of love, but a lack of friendship that makes unhappy marriages.\",\n",
    "#    \"That which does not kill us makes us stronger.\",\n",
    "#    \"I'm not upset that you lied to me, I'm upset that from now on I can't believe you.\",\n",
    "#    \"And those who were seen dancing were thought to be insane by those who could not hear the music.\",\n",
    "#    \"It is hard enough to remember my opinions, without also remembering my reasons for them!\"\n",
    "#]\n",
    "#\n",
    "\n",
    "#quotes = [\n",
    "#    \"It is not a lack of love, but a lack of friendship that makes unhappy marriages\"\n",
    "#    #\"It is not a lack of love, but a lack of friendship that makes un\"\n",
    "#]\n",
    "\n",
    "quotes = [\n",
    "    \"after you hear the word eleph\",\n",
    "    \"friendship that makes unhappy \",\n",
    "    \"That which does not kill us makes us \"\n",
    "]\n",
    "\n",
    "for q in quotes:\n",
    "    seq = q[-SEQUENCE_LENGTH:].lower()\n",
    "    print(seq)\n",
    "    print(\"... and the completions are : \" , predict_completions(seq, k_condWonderland, 5 ))\n",
    "    print()"
   ]
  },
  {
   "cell_type": "code",
   "execution_count": 25,
   "metadata": {},
   "outputs": [
    {
     "name": "stdout",
     "output_type": "stream",
     "text": [
      "after you hear the word eleph\n",
      "will prepare:  after you hear the word eleph\n",
      "Will predict completions for the indices :  [' ', 'e', 'r', 'o', 'n']\n",
      "predict_completion for:  after you hear the word eleph \n",
      "will prepare:  after you hear the word eleph \n",
      "Extended text is :  after you hear the word eleph  e o   to e e e e  o  ee  he e e e t e eo tno e e e th    o o o re en t\n",
      "predict_completion for:  after you hear the word elephe\n",
      "will prepare:  after you hear the word elephe\n",
      "Extended text is :  after you hear the word elephee   on en ne na oene ee ee e  r a  r e  r the n on oo e r n ao t  t e  \n",
      "predict_completion for:  after you hear the word elephr\n",
      "will prepare:  after you hear the word elephr\n",
      "Extended text is :  after you hear the word elephre e  o e oos oe ee  o e i  o o te ee an e th  oo ee r  aneter t r  o nn\n",
      "predict_completion for:  after you hear the word elepho\n",
      "will prepare:  after you hear the word elepho\n",
      "Extended text is :  after you hear the word elephoe  enn  t ee  he on ie   io to  ee r t   o te o o oe  t  e ouee e e t  \n",
      "predict_completion for:  after you hear the word elephn\n",
      "will prepare:  after you hear the word elephn\n",
      "Extended text is :  after you hear the word elephne  t e an e i the on eo  o h  s e in t n     e o  n o n    t a e ae ue \n",
      "... and the completions are :  ['  e o   to e e e e  o  ee  he e e e t e eo tno e e e th    o o o re en t', 'ee   on en ne na oene ee ee e  r a  r e  r the n on oo e r n ao t  t e  ', 're e  o e oos oe ee  o e i  o o te ee an e th  oo ee r  aneter t r  o nn', 'oe  enn  t ee  he on ie   io to  ee r t   o te o o oe  t  e ouee e e t  ', 'ne  t e an e i the on eo  o h  s e in t n     e o  n o n    t a e ae ue ']\n",
      "\n",
      "friendship that makes unhappy \n",
      "will prepare:  friendship that makes unhappy \n",
      "Will predict completions for the indices :  ['n', 'e', 't', ' ', 'o']\n",
      "predict_completion for:  friendship that makes unhappy n\n",
      "will prepare:  friendship that makes unhappy n\n",
      "Extended text is :  friendship that makes unhappy n e n t   o hn   r at  o ehe    e o te  n  ooe eoe o one e  oo  t  t  o\n",
      "predict_completion for:  friendship that makes unhappy e\n",
      "will prepare:  friendship that makes unhappy e\n",
      "Extended text is :  friendship that makes unhappy e nn  h  eee  oenoen o re ae   e    oe   e o oon t r th  an te t e e on\n",
      "predict_completion for:  friendship that makes unhappy t\n",
      "will prepare:  friendship that makes unhappy t\n",
      "Extended text is :  friendship that makes unhappy the ne e te n   e  on ee oo oe ne e en ae eno t r o re e e  oon tn    r\n",
      "predict_completion for:  friendship that makes unhappy  \n",
      "will prepare:  friendship that makes unhappy  \n",
      "Extended text is :  friendship that makes unhappy  e o e n o th o e   ee e t  t  e     e t o re h  o  en  oe   t n  o e o\n",
      "predict_completion for:  friendship that makes unhappy o\n",
      "will prepare:  friendship that makes unhappy o\n",
      "Extended text is :  friendship that makes unhappy on e the     t s ee oe  en   o  t e on n theer e  oo on  oe s   e e e a\n",
      "... and the completions are :  ['n e n t   o hn   r at  o ehe    e o te  n  ooe eoe o one e  oo  t  t  o', 'e nn  h  eee  oenoen o re ae   e    oe   e o oon t r th  an te t e e on', 'the ne e te n   e  on ee oo oe ne e en ae eno t r o re e e  oon tn    r', ' e o e n o th o e   ee e t  t  e     e t o re h  o  en  oe   t n  o e o', 'on e the     t s ee oe  en   o  t e on n theer e  oo on  oe s   e e e a']\n",
      "\n",
      "that which does not kill us makes us \n",
      "will prepare:  that which does not kill us makes us \n",
      "Will predict completions for the indices :  ['e', 't', 'o', 'a', ' ']\n",
      "predict_completion for:  that which does not kill us makes us e\n",
      "will prepare:  that which does not kill us makes us e\n",
      "Extended text is :  that which does not kill us makes us eoo e   he te h w e e ene  on e  ee  ee o o a e    r  oe e oo t \n",
      "predict_completion for:  that which does not kill us makes us t\n",
      "will prepare:  that which does not kill us makes us t\n",
      "Extended text is :  that which does not kill us makes us toe e e  oen  on eoe s  e the e  oo nn t t  oe  h in n oenn    e\n",
      "predict_completion for:  that which does not kill us makes us o\n",
      "will prepare:  that which does not kill us makes us o\n",
      "Extended text is :  that which does not kill us makes us ooe e  theene o e n  ne fe oo t ie o re e oo r t     the  e   en\n",
      "predict_completion for:  that which does not kill us makes us a\n",
      "will prepare:  that which does not kill us makes us a\n",
      "Extended text is :  that which does not kill us makes us aoe    e h  enere en te ee    o  oe on  hen  e e one e  re n oe \n",
      "predict_completion for:  that which does not kill us makes us  \n",
      "will prepare:  that which does not kill us makes us  \n",
      "Extended text is :  that which does not kill us makes us  toe   r hee t  a o re enee e oe o e  oen e  ooe  e e r en ne  e\n",
      "... and the completions are :  ['eoo e   he te h w e e ene  on e  ee  ee o o a e    r  oe e oo t ', 'toe e e  oen  on eoe s  e the e  oo nn t t  oe  h in n oenn    e', 'ooe e  theene o e n  ne fe oo t ie o re e oo r t     the  e   en', 'aoe    e h  enere en te ee    o  oe on  hen  e e one e  re n oe ', ' toe   r hee t  a o re enee e oe o e  oen e  ooe  e e r en ne  e']\n",
      "\n"
     ]
    }
   ],
   "source": [
    "#quotes = [\n",
    "#    \"It is not a lack of love, but a lack of friendship that makes unhappy marriages.\",\n",
    "#    \"That which does not kill us makes us stronger.\",\n",
    "#    \"I'm not upset that you lied to me, I'm upset that from now on I can't believe you.\",\n",
    "#    \"And those who were seen dancing were thought to be insane by those who could not hear the music.\",\n",
    "#    \"It is hard enough to remember my opinions, without also remembering my reasons for them!\"\n",
    "#]\n",
    "#\n",
    "\n",
    "#quotes = [\n",
    "#    \"It is not a lack of love, but a lack of friendship that makes unhappy marriages\"\n",
    "#    #\"It is not a lack of love, but a lack of friendship that makes un\"\n",
    "#]\n",
    "\n",
    "quotes = [\n",
    "    \"after you hear the word eleph\",\n",
    "    \"friendship that makes unhappy \",\n",
    "    \"That which does not kill us makes us \"\n",
    "]\n",
    "\n",
    "for q in quotes:\n",
    "    seq = q[-SEQUENCE_LENGTH:].lower()\n",
    "    print(seq)\n",
    "    print(\"... and the completions are : \" , predict_completions(seq, k_condNietzsche, 5 ))\n",
    "    print()\n",
    "    "
   ]
  },
  {
   "cell_type": "code",
   "execution_count": null,
   "metadata": {
    "collapsed": true
   },
   "outputs": [],
   "source": []
  },
  {
   "cell_type": "code",
   "execution_count": null,
   "metadata": {
    "collapsed": true
   },
   "outputs": [],
   "source": []
  }
 ],
 "metadata": {
  "kernelspec": {
   "display_name": "Python (keras)",
   "language": "python",
   "name": "myenv"
  },
  "language_info": {
   "codemirror_mode": {
    "name": "ipython",
    "version": 3
   },
   "file_extension": ".py",
   "mimetype": "text/x-python",
   "name": "python",
   "nbconvert_exporter": "python",
   "pygments_lexer": "ipython3",
   "version": "3.6.3"
  }
 },
 "nbformat": 4,
 "nbformat_minor": 2
}
