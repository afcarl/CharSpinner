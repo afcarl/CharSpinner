{
 "cells": [
  {
   "cell_type": "code",
   "execution_count": 108,
   "metadata": {},
   "outputs": [],
   "source": [
    "#https://medium.com/@curiousily/making-a-predictive-keyboard-using-recurrent-neural-networks-tensorflow-for-hackers-part-v-3f238d824218\n",
    "# note: I trained on alice in wonderland, about 1/4 the length of his Nietzsche data set.\n",
    "# I also tested with \"seeds\" that come from his Nietzsche examples!\n",
    "# TODO - why does validation not go down?   \n",
    "#    - what happens if you let it run further by itself? \n",
    "#   - Use  GRU instead of LSTM\n",
    "\n",
    "import numpy as np\n",
    "np.random.seed(42)\n",
    "import tensorflow as tf\n",
    "tf.set_random_seed(42)\n",
    "from keras.models import Sequential, load_model\n",
    "from keras.layers import Dense, Activation\n",
    "from keras.layers import LSTM, Dropout\n",
    "from keras.layers import TimeDistributed\n",
    "from keras.layers.core import Dense, Activation, Dropout, RepeatVector\n",
    "from keras.optimizers import RMSprop\n",
    "import matplotlib.pyplot as plt\n",
    "import pickle\n",
    "import sys\n",
    "\n",
    "import heapq\n",
    "import seaborn as sns\n",
    "from pylab import rcParams"
   ]
  },
  {
   "cell_type": "code",
   "execution_count": 109,
   "metadata": {},
   "outputs": [],
   "source": [
    "trainP=True\n",
    "useNietzsche=False\n",
    "useCarroll=True\n",
    "\n",
    "FILENAME=\"carroll.3.20\"   #for writing or reading\n",
    "#FILENAME=\"nietzsche.3.20\"   #for writing or reading\n",
    "\n",
    "SEQUENCE_LENGTH = 40\n",
    "EPOCHS=20\n",
    "step = 3   #skip this number of chars for generating new training sequences\n"
   ]
  },
  {
   "cell_type": "code",
   "execution_count": 110,
   "metadata": {
    "collapsed": true
   },
   "outputs": [],
   "source": [
    "%matplotlib inline\n",
    "sns.set(style='whitegrid', palette='muted', font_scale=1.5)\n",
    "rcParams['figure.figsize'] = 12, 5"
   ]
  },
  {
   "cell_type": "code",
   "execution_count": 111,
   "metadata": {},
   "outputs": [
    {
     "name": "stdout",
     "output_type": "stream",
     "text": [
      "corpus 2 length: 144323\n"
     ]
    }
   ],
   "source": [
    "text1=\"\"\n",
    "text2=\"\"\n",
    "\n",
    "if useNietzsche :\n",
    "    path = 'nietzsche.txt'\n",
    "    text1 = open(path).read().lower()\n",
    "    print('corpus 1 length:', len(text1))\n",
    "\n",
    "if useCarroll :\n",
    "    path = 'wonderland.txt'\n",
    "    text2 = open(path).read().lower()\n",
    "    print('corpus 2 length:', len(text2))\n",
    "\n",
    "text=text1+text2\n"
   ]
  },
  {
   "cell_type": "code",
   "execution_count": 112,
   "metadata": {},
   "outputs": [
    {
     "name": "stdout",
     "output_type": "stream",
     "text": [
      "unique chars: 44\n"
     ]
    }
   ],
   "source": [
    "# find all unique chars in the corpus and create char to index and index to char maps\n",
    "\n",
    "chars = sorted(list(set(text)))\n",
    "char_indices = dict((c, i) for i, c in enumerate(chars))\n",
    "indices_char = dict((i, c) for i, c in enumerate(chars))\n",
    "\n",
    "lenchars=len(chars)\n",
    "lenconditional=1\n",
    "lenAugmentedInput=lenchars+lenconditional\n",
    "\n",
    "print(f'unique chars: {len(chars)}')"
   ]
  },
  {
   "cell_type": "code",
   "execution_count": 113,
   "metadata": {},
   "outputs": [
    {
     "name": "stdout",
     "output_type": "stream",
     "text": [
      "num training examples: 48095\n"
     ]
    }
   ],
   "source": [
    "# cut the corpus into chunks of 40 characters, spacing the sequences by 3 characters\n",
    "# Additionally, we will store the next character (the one we need to predict) for every sequence\n",
    "k_condNietzsche=0\n",
    "k_condWonderland=1\n",
    "\n",
    "sentences = []\n",
    "next_chars = []\n",
    "cond_input=[]\n",
    "\n",
    "if useNietzsche :\n",
    "    for i in range(0, len(text1) - SEQUENCE_LENGTH, step):\n",
    "        sentences.append(text1[i: i + SEQUENCE_LENGTH])\n",
    "        next_chars.append(text1[i + SEQUENCE_LENGTH])\n",
    "        cond_input.append(k_condNietzsche)\n",
    "\n",
    "if useCarroll :\n",
    "    for j in range(0, len(text2) - SEQUENCE_LENGTH, step):\n",
    "        sentences.append(text2[j: j + SEQUENCE_LENGTH])\n",
    "        next_chars.append(text2[j + SEQUENCE_LENGTH])\n",
    "        cond_input.append(k_condWonderland)\n",
    "\n",
    "print(f'num training examples: {len(sentences)}')"
   ]
  },
  {
   "cell_type": "code",
   "execution_count": 114,
   "metadata": {
    "collapsed": true
   },
   "outputs": [],
   "source": [
    "# generate features and labels - one-host versions of the input and prediction vectors\n",
    "\n",
    "X = np.zeros((len(sentences), SEQUENCE_LENGTH, lenAugmentedInput), dtype=np.bool)  #x[sample_index][one-hot array]\n",
    "y = np.zeros((len(sentences), lenchars), dtype=np.bool)\n",
    "for i, sentence in enumerate(sentences):\n",
    "    for t, char in enumerate(sentence):\n",
    "        X[i, t, char_indices[char]] = 1\n",
    "        X[i, t,lenAugmentedInput-1] = cond_input[i] # set conditional bit on last charcter in each training sample\n",
    "    y[i, char_indices[next_chars[i]]] = 1"
   ]
  },
  {
   "cell_type": "code",
   "execution_count": 115,
   "metadata": {},
   "outputs": [
    {
     "data": {
      "text/plain": [
       "(48095, 40, 45)"
      ]
     },
     "execution_count": 115,
     "metadata": {},
     "output_type": "execute_result"
    }
   ],
   "source": [
    "X.shape   #training_samples, SEQUENCE_LENGTH, lenAugmentedInput"
   ]
  },
  {
   "cell_type": "code",
   "execution_count": 116,
   "metadata": {
    "collapsed": true
   },
   "outputs": [],
   "source": [
    "#LST layer with 128 neurons\n",
    "# takes a shape which is \n",
    "model = Sequential()\n",
    "model.add(LSTM(128, input_shape=(SEQUENCE_LENGTH, lenAugmentedInput)))\n",
    "model.add(Dense(lenchars))\n",
    "model.add(Activation('softmax'))"
   ]
  },
  {
   "cell_type": "code",
   "execution_count": 117,
   "metadata": {},
   "outputs": [
    {
     "data": {
      "text/plain": [
       "'history.carroll.3.20.p'"
      ]
     },
     "execution_count": 117,
     "metadata": {},
     "output_type": "execute_result"
    }
   ],
   "source": [
    "'history.' + FILENAME + '.p'"
   ]
  },
  {
   "cell_type": "code",
   "execution_count": 118,
   "metadata": {},
   "outputs": [
    {
     "name": "stdout",
     "output_type": "stream",
     "text": [
      "Train on 45690 samples, validate on 2405 samples\n",
      "Epoch 1/20\n",
      "45690/45690 [==============================] - 68s - loss: 2.3214 - acc: 0.3441 - val_loss: 1.9480 - val_acc: 0.4391\n",
      "Epoch 2/20\n",
      "45690/45690 [==============================] - 75s - loss: 1.8074 - acc: 0.4730 - val_loss: 1.7490 - val_acc: 0.4852\n",
      "Epoch 3/20\n",
      "45690/45690 [==============================] - 79s - loss: 1.6247 - acc: 0.5190 - val_loss: 1.6577 - val_acc: 0.5098\n",
      "Epoch 4/20\n",
      "45690/45690 [==============================] - 79s - loss: 1.4989 - acc: 0.5508 - val_loss: 1.6444 - val_acc: 0.5214\n",
      "Epoch 5/20\n",
      "45690/45690 [==============================] - 78s - loss: 1.4085 - acc: 0.5779 - val_loss: 1.6419 - val_acc: 0.5268\n",
      "Epoch 6/20\n",
      "45690/45690 [==============================] - 77s - loss: 1.3379 - acc: 0.5950 - val_loss: 1.6436 - val_acc: 0.5364\n",
      "Epoch 7/20\n",
      "45690/45690 [==============================] - 77s - loss: 1.2792 - acc: 0.6094 - val_loss: 1.6430 - val_acc: 0.5397\n",
      "Epoch 8/20\n",
      "45690/45690 [==============================] - 77s - loss: 1.2303 - acc: 0.6213 - val_loss: 1.6662 - val_acc: 0.5277\n",
      "Epoch 9/20\n",
      "45690/45690 [==============================] - 81s - loss: 1.1902 - acc: 0.6332 - val_loss: 1.6689 - val_acc: 0.5301\n",
      "Epoch 10/20\n",
      "45690/45690 [==============================] - 82s - loss: 1.1593 - acc: 0.6418 - val_loss: 1.7106 - val_acc: 0.5356\n",
      "Epoch 11/20\n",
      "45690/45690 [==============================] - 78s - loss: 1.1325 - acc: 0.6484 - val_loss: 1.7356 - val_acc: 0.5222\n",
      "Epoch 12/20\n",
      "45690/45690 [==============================] - 76s - loss: 1.1036 - acc: 0.6567 - val_loss: 1.7705 - val_acc: 0.5310\n",
      "Epoch 13/20\n",
      "45690/45690 [==============================] - 75s - loss: 1.0850 - acc: 0.6615 - val_loss: 1.7208 - val_acc: 0.5310\n",
      "Epoch 14/20\n",
      "45690/45690 [==============================] - 77s - loss: 1.0654 - acc: 0.6684 - val_loss: 1.7797 - val_acc: 0.5268\n",
      "Epoch 15/20\n",
      "45690/45690 [==============================] - 76s - loss: 1.0483 - acc: 0.6712 - val_loss: 1.7819 - val_acc: 0.5227\n",
      "Epoch 16/20\n",
      "45690/45690 [==============================] - 77s - loss: 1.0267 - acc: 0.6756 - val_loss: 1.7859 - val_acc: 0.5193\n",
      "Epoch 17/20\n",
      "45690/45690 [==============================] - 78s - loss: 1.0153 - acc: 0.6802 - val_loss: 1.8078 - val_acc: 0.5210\n",
      "Epoch 18/20\n",
      "45690/45690 [==============================] - 77s - loss: 1.0030 - acc: 0.6842 - val_loss: 1.7925 - val_acc: 0.5252\n",
      "Epoch 19/20\n",
      "45690/45690 [==============================] - 77s - loss: 0.9954 - acc: 0.6871 - val_loss: 1.8669 - val_acc: 0.5202\n",
      "Epoch 20/20\n",
      "45690/45690 [==============================] - 77s - loss: 0.9818 - acc: 0.6897 - val_loss: 1.8911 - val_acc: 0.5206\n"
     ]
    }
   ],
   "source": [
    "# Train. Validate with 5% of the examples\n",
    "\n",
    "\n",
    "if trainP :\n",
    "    optimizer = RMSprop(lr=0.01)\n",
    "    model.compile(loss='categorical_crossentropy', optimizer=optimizer, metrics=['accuracy'])\n",
    "    history = model.fit(X, y, validation_split=0.05, batch_size=128, epochs=EPOCHS, shuffle=True).history\n",
    "\n",
    "    #Save (How does this work ??)\n",
    "    model.save('keras_model.' + FILENAME + '.h5')\n",
    "    pickle.dump(history, open('history.' + FILENAME + '.p', 'wb'))\n"
   ]
  },
  {
   "cell_type": "code",
   "execution_count": 119,
   "metadata": {},
   "outputs": [],
   "source": [
    "\n",
    "# check to make sure the save worked\n",
    "model = load_model('keras_model.' + FILENAME + '.h5')\n",
    "history = pickle.load(open('history.' + FILENAME + '.p', \"rb\"))"
   ]
  },
  {
   "cell_type": "code",
   "execution_count": 120,
   "metadata": {},
   "outputs": [
    {
     "data": {
      "image/png": "[encoded data removed]",
      "text/plain": [
       "<matplotlib.figure.Figure at 0x12b45d4e0>"
      ]
     },
     "metadata": {},
     "output_type": "display_data"
    }
   ],
   "source": [
    "plt.plot(history['acc'])\n",
    "plt.plot(history['val_acc'])\n",
    "plt.title('model accuracy')\n",
    "plt.ylabel('accuracy')\n",
    "plt.xlabel('epoch')\n",
    "plt.legend(['train', 'test'], loc='upper left');"
   ]
  },
  {
   "cell_type": "code",
   "execution_count": 121,
   "metadata": {},
   "outputs": [
    {
     "data": {
      "image/png": "[encoded data removed]",
      "text/plain": [
       "<matplotlib.figure.Figure at 0x125788f28>"
      ]
     },
     "metadata": {},
     "output_type": "display_data"
    }
   ],
   "source": [
    "plt.plot(history['loss'])\n",
    "plt.plot(history['val_loss'])\n",
    "plt.title('model loss')\n",
    "plt.ylabel('loss')\n",
    "plt.xlabel('epoch')\n",
    "plt.legend(['train', 'test'], loc='upper left');"
   ]
  },
  {
   "cell_type": "code",
   "execution_count": 132,
   "metadata": {
    "collapsed": true
   },
   "outputs": [],
   "source": [
    "# create one-hot represetntation of input (will be padded with 0 vectors if text < SEQUENCE_LENGTH chars)\n",
    "def prepare_input_old(text):\n",
    "    print(\"will prepare: \", text)\n",
    "    x = np.zeros((1, SEQUENCE_LENGTH, len(chars)))  \n",
    "\n",
    "    for t, char in enumerate(text):\n",
    "        x[0, t, char_indices[char]] = 1.\n",
    "        \n",
    "    return x"
   ]
  },
  {
   "cell_type": "code",
   "execution_count": 133,
   "metadata": {
    "collapsed": true
   },
   "outputs": [],
   "source": [
    "# changes \"oldest\" element in buffer to new element, then rolls the circular buffer \n",
    "def shift(c,condval,buf) :\n",
    "    buf[0,0].fill(0)\n",
    "    buf[0,0,char_indices[c]]=1\n",
    "    buf[0,0,lenAugmentedInput-1]=condval\n",
    "    buf[0]=np.roll(buf[0],-1, 0)\n",
    "    return buf\n",
    "    \n",
    "# create one-hot represetntation of input (will be padded with 0 vectors if text < SEQUENCE_LENGTH chars)\n",
    "def prepare_input(text,condval):\n",
    "    print(\"will prepare: \", text)\n",
    "    x = np.zeros((1, SEQUENCE_LENGTH, lenAugmentedInput))  \n",
    "    for t, char in enumerate(text):\n",
    "        shift(char, condval, x)      \n",
    "    return x"
   ]
  },
  {
   "cell_type": "code",
   "execution_count": 134,
   "metadata": {
    "collapsed": true
   },
   "outputs": [],
   "source": [
    "# preds is an array of scores greater than 0 for each letter\n",
    "# sample(preds) return the indexes of the n highest\n",
    "#\n",
    "# NOTE: If you aren't going to throw the dice, why not just take the 3 largest in the preds array directly?\n",
    "#\n",
    "def sample(preds, top_n=3):\n",
    "    preds = np.asarray(preds).astype('float64')\n",
    "    preds = np.log(preds)\n",
    "    exp_preds = np.exp(preds)\n",
    "    preds = exp_preds / np.sum(exp_preds)\n",
    "    #print('preds are ', preds)\n",
    "    \n",
    "    return heapq.nlargest(top_n, range(len(preds)), preds.take) # 3rd arg is a 1-arg function used as key for sorting"
   ]
  },
  {
   "cell_type": "code",
   "execution_count": 135,
   "metadata": {
    "collapsed": true
   },
   "outputs": [],
   "source": [
    "# preds is an array of scores unnormalized scores (logits)\n",
    "# rsample2(preds) Selects top_n, then throws dice to choose them in a randomized order based on their relative prob.\n",
    "\n",
    "def rsample(preds, top_n=3, verbose=0):\n",
    "    preds = np.asarray(preds).astype('float64')\n",
    "    \n",
    "    exp_preds = np.exp(preds)\n",
    "    #sm=np.sum(exp_preds)\n",
    "    preds = exp_preds / exp_preds.sum(0)\n",
    "    \n",
    "    # indexes of largest vals in preds, orders large to small\n",
    "    idx = heapq.nlargest(top_n, range(len(preds)), preds.take)\n",
    "    # and their values\n",
    "    vals = np.take(preds, idx )\n",
    "    #normalized (for np.random.choice)\n",
    "    vals=vals/vals.sum(0)\n",
    "    \n",
    "    if (verbose == 1) :\n",
    "        print(\"probability vals are \", vals)\n",
    "    your_samples = np.random.choice(idx, size=top_n, replace=False,p=vals)\n",
    "    return your_samples\n"
   ]
  },
  {
   "cell_type": "code",
   "execution_count": 136,
   "metadata": {},
   "outputs": [
    {
     "name": "stdout",
     "output_type": "stream",
     "text": [
      "probability vals are  [ 0.66524096  0.24472847  0.09003057]\n",
      " count  0  =  0.0\n",
      " count  1  =  0.0\n",
      " count  2  =  0.0\n",
      " count  3  =  909.0\n",
      " count  4  =  2428.0\n",
      " count  5  =  6663.0\n"
     ]
    }
   ],
   "source": [
    "# test sampling the probablity distribution\n",
    "chooseN=3\n",
    "bar=[2,2,3,4,5,6]\n",
    "rsample(bar, top_n=chooseN, verbose=1)\n",
    "count=np.zeros(len(bar))\n",
    "for i in range(10000) :\n",
    "    foo=rsample(bar, top_n=chooseN)\n",
    "    #print(\"foo = \", foo)\n",
    "    for j in range(len(bar)) :\n",
    "        if j == foo[0] :\n",
    "            count[j]=count[j]+1\n",
    "\n",
    "for j in range(len(bar)) :\n",
    "    print(\" count \", str(j), \" = \", str(count[j]))\n",
    "    "
   ]
  },
  {
   "cell_type": "code",
   "execution_count": 137,
   "metadata": {
    "collapsed": true
   },
   "outputs": [],
   "source": [
    "def predict_completion_old(text):\n",
    "    print(\"predict_completion for: \", text)\n",
    "    original_text = text\n",
    "    generated = text\n",
    "    completion = ''\n",
    "    while True:\n",
    "        x = prepare_input(text)\n",
    "        preds = model.predict(x, verbose=0)[0]\n",
    "        next_index = rsample(preds, top_n=1)[0] # SAMPLE\n",
    "        next_char = indices_char[next_index]\n",
    "        text = text[1:] + next_char\n",
    "        completion += next_char\n",
    "        \n",
    "        print(\"len is \", len(original_text + completion))\n",
    "        if (len(original_text + completion) + 2 > len(original_text) and next_char == ' ') or (len(original_text + completion) > 100) : \n",
    "            return completion"
   ]
  },
  {
   "cell_type": "code",
   "execution_count": 138,
   "metadata": {
    "collapsed": true
   },
   "outputs": [],
   "source": [
    "def predict_completion(text, condval):\n",
    "    print(\"predict_completion for: \", text)\n",
    "    original_text = text\n",
    "    generated = text\n",
    "    completion = ''\n",
    "    \n",
    "    x = prepare_input(text, condval)\n",
    "    while True:\n",
    "        \n",
    "        preds = model.predict(x, verbose=0)[0]\n",
    "        next_index = rsample(preds, top_n=1)[0] # SAMPLE\n",
    "        next_char = indices_char[next_index]\n",
    "        text = text[1:] + next_char\n",
    "        completion += next_char\n",
    "        \n",
    "        #print(\"len is \", len(original_text + completion))\n",
    "        #if (len(original_text + completion) + 2 > len(original_text) and next_char == ' ') or (len(original_text + completion) > 100) : \n",
    "        #    print(\"Extended text is : \", text)\n",
    "        #    return completion\n",
    "\n",
    "        if len(original_text + completion) > 100 : \n",
    "            print(\"Extended text is : \", original_text + completion)\n",
    "            return completion\n",
    "        \n",
    "        x=shift(next_char, condval, x)\n",
    "        "
   ]
  },
  {
   "cell_type": "code",
   "execution_count": 139,
   "metadata": {
    "collapsed": true
   },
   "outputs": [],
   "source": [
    "# predict n different completions for the first 40 characters of text.\n",
    "def predict_completions(text, n=3, condval):\n",
    "    x = prepare_input(text, condval)\n",
    "    preds = model.predict(x, verbose=0)[0]\n",
    "    next_indices = rsample(preds, n)  # SAMPLE (for the character folloiwng the input)\n",
    "    print(\"Will predict completions for the indices : \", [indices_char[idx] for idx in next_indices])\n",
    "    return [indices_char[idx] + predict_completion(text[0:] + indices_char[idx], condval) for idx in next_indices]\n"
   ]
  },
  {
   "cell_type": "code",
   "execution_count": 140,
   "metadata": {
    "collapsed": true
   },
   "outputs": [],
   "source": [
    "#quotes = [\n",
    "#    \"It is not a lack of love, but a lack of friendship that makes unhappy marriages.\",\n",
    "#    \"That which does not kill us makes us stronger.\",\n",
    "#    \"I'm not upset that you lied to me, I'm upset that from now on I can't believe you.\",\n",
    "#    \"And those who were seen dancing were thought to be insane by those who could not hear the music.\",\n",
    "#    \"It is hard enough to remember my opinions, without also remembering my reasons for them!\"\n",
    "#]\n",
    "#\n",
    "\n",
    "#quotes = [\n",
    "#    \"It is not a lack of love, but a lack of friendship that makes unhappy marriages\"\n",
    "#    #\"It is not a lack of love, but a lack of friendship that makes un\"\n",
    "#]\n",
    "\n",
    "quotes = [\n",
    "    \"after you hear the word eleph\",\n",
    "    \"friendship that makes unhappy marriages\"\n",
    "]\n",
    "\n",
    "for q in quotes:\n",
    "    seq = q[-SEQUENCE_LENGTH:].lower()\n",
    "    print(seq)\n",
    "    print(predict_completions(seq, 5, k_condWonderland))\n",
    "    print()"
   ]
  },
  {
   "cell_type": "code",
   "execution_count": null,
   "metadata": {
    "collapsed": true
   },
   "outputs": [],
   "source": [
    "#quotes = [\n",
    "#    \"It is not a lack of love, but a lack of friendship that makes unhappy marriages.\",\n",
    "#    \"That which does not kill us makes us stronger.\",\n",
    "#    \"I'm not upset that you lied to me, I'm upset that from now on I can't believe you.\",\n",
    "#    \"And those who were seen dancing were thought to be insane by those who could not hear the music.\",\n",
    "#    \"It is hard enough to remember my opinions, without also remembering my reasons for them!\"\n",
    "#]\n",
    "#\n",
    "\n",
    "#quotes = [\n",
    "#    \"It is not a lack of love, but a lack of friendship that makes unhappy marriages\"\n",
    "#    #\"It is not a lack of love, but a lack of friendship that makes un\"\n",
    "#]\n",
    "\n",
    "quotes = [\n",
    "    \"after you hear the word eleph\",\n",
    "    \"friendship that makes unhappy marriages\"\n",
    "]\n",
    "\n",
    "for q in quotes:\n",
    "    seq = q[-SEQUENCE_LENGTH:].lower()\n",
    "    print(seq)\n",
    "    print(predict_completions(seq, 5, k_condNietzsche))\n",
    "    print()"
   ]
  }
 ],
 "metadata": {
  "kernelspec": {
   "display_name": "Python (keras)",
   "language": "python",
   "name": "myenv"
  },
  "language_info": {
   "codemirror_mode": {
    "name": "ipython",
    "version": 3
   },
   "file_extension": ".py",
   "mimetype": "text/x-python",
   "name": "python",
   "nbconvert_exporter": "python",
   "pygments_lexer": "ipython3",
   "version": "3.6.3"
  }
 },
 "nbformat": 4,
 "nbformat_minor": 2
}
